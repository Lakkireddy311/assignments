{
  "nbformat": 4,
  "nbformat_minor": 0,
  "metadata": {
    "colab": {
      "provenance": [],
      "authorship_tag": "ABX9TyM7wAArFlERzGe7jv++g1I6",
      "include_colab_link": true
    },
    "kernelspec": {
      "name": "python3",
      "display_name": "Python 3"
    },
    "language_info": {
      "name": "python"
    }
  },
  "cells": [
    {
      "cell_type": "markdown",
      "metadata": {
        "id": "view-in-github",
        "colab_type": "text"
      },
      "source": [
        "<a href=\"https://colab.research.google.com/github/Lakkireddy311/assignments/blob/main/module_10.ipynb\" target=\"_parent\"><img src=\"https://colab.research.google.com/assets/colab-badge.svg\" alt=\"Open In Colab\"/></a>"
      ]
    },
    {
      "cell_type": "markdown",
      "source": [
        "Q1. How do you comment code in Python? What are the different types of comments?"
      ],
      "metadata": {
        "id": "g3X1FGyIvsbI"
      }
    },
    {
      "cell_type": "markdown",
      "source": [
        "A1. You can comment code in Python using the # symbol for single-line comments and using triple quotes ''' or \"\"\" for multi-line comments."
      ],
      "metadata": {
        "id": "rfFpQrYGv1jU"
      }
    },
    {
      "cell_type": "markdown",
      "source": [
        "Q2. What are variables in Python? How do you declare and assign values to variables?"
      ],
      "metadata": {
        "id": "itUOs7hQv6B7"
      }
    },
    {
      "cell_type": "markdown",
      "source": [
        "A2. Variables in Python are used to store data values. You can declare and assign values to variables like this:"
      ],
      "metadata": {
        "id": "L4EQ3gFDv9s4"
      }
    },
    {
      "cell_type": "code",
      "source": [
        "variable_name = 10\n"
      ],
      "metadata": {
        "id": "NynECGbgwAgm"
      },
      "execution_count": 2,
      "outputs": []
    },
    {
      "cell_type": "markdown",
      "source": [
        "Q3. How do you convert one data type to another in Python?"
      ],
      "metadata": {
        "id": "OdQoNlE0wJ2n"
      }
    },
    {
      "cell_type": "markdown",
      "source": [
        "A3. You can convert one data type to another using built-in functions like int(), float(), str(), etc. For example:"
      ],
      "metadata": {
        "id": "G3i_sVi_wKta"
      }
    },
    {
      "cell_type": "code",
      "source": [
        "x = 10\n",
        "y = float(x)\n"
      ],
      "metadata": {
        "id": "dv2qPUbQwTUl"
      },
      "execution_count": 3,
      "outputs": []
    },
    {
      "cell_type": "markdown",
      "source": [
        "Q4. How do you write and execute a Python script from the command line?"
      ],
      "metadata": {
        "id": "jygYW7Kmwcy6"
      }
    },
    {
      "cell_type": "markdown",
      "source": [
        "A4. You can write a Python script in a text editor and save it with a .py extension. To execute it from the command line, navigate to the directory containing the script and type python script_name.py."
      ],
      "metadata": {
        "id": "cvq8VFMZwdk8"
      }
    },
    {
      "cell_type": "markdown",
      "source": [
        "Q5. Given a list my_list = [1, 2, 3, 4, 5], write the code to slice the list and obtain the sub-list [2, 3]."
      ],
      "metadata": {
        "id": "mOGrIRDqwjVk"
      }
    },
    {
      "cell_type": "code",
      "source": [
        "my_list = [1, 2, 3, 4, 5]\n",
        "sub_list = my_list[1:3]\n",
        "sub_list\n"
      ],
      "metadata": {
        "colab": {
          "base_uri": "https://localhost:8080/"
        },
        "id": "QNQGjvKPwT4s",
        "outputId": "19b40a64-5ee0-4dd0-f97c-bc5781e2acdf"
      },
      "execution_count": 5,
      "outputs": [
        {
          "output_type": "execute_result",
          "data": {
            "text/plain": [
              "[2, 3]"
            ]
          },
          "metadata": {},
          "execution_count": 5
        }
      ]
    },
    {
      "cell_type": "markdown",
      "source": [
        "Q6. What is a complex number in mathematics, and how is it represented in Python?"
      ],
      "metadata": {
        "id": "cXQlhQGvwvzJ"
      }
    },
    {
      "cell_type": "markdown",
      "source": [
        "A6. A complex number is a number that comprises a real part and an imaginary part. In Python, it's represented as x + yj, where x is the real part and y is the imaginary part."
      ],
      "metadata": {
        "id": "6IRp4lG4wyWs"
      }
    },
    {
      "cell_type": "markdown",
      "source": [
        "Q7. What is the correct way to declare a variable named age and assign the value 25 to it?"
      ],
      "metadata": {
        "id": "lMPHhSoLw2a5"
      }
    },
    {
      "cell_type": "code",
      "source": [
        "age = 25\n"
      ],
      "metadata": {
        "id": "XQKyHGchw5j5"
      },
      "execution_count": 6,
      "outputs": []
    },
    {
      "cell_type": "markdown",
      "source": [
        "Q8. Declare a variable named price and assign the value 9.99 to it. What data type does this variable belong to?"
      ],
      "metadata": {
        "id": "-nNppn9aw-yh"
      }
    },
    {
      "cell_type": "markdown",
      "source": [
        "This variable belongs to the float data type.\n",
        "\n"
      ],
      "metadata": {
        "id": "6fF3tzW9xJpn"
      }
    },
    {
      "cell_type": "markdown",
      "source": [
        "Q9. Create a variable named name and assign your full name to it as a string. How would you print the value of this variable?"
      ],
      "metadata": {
        "id": "6IDt3LPNxKY0"
      }
    },
    {
      "cell_type": "code",
      "source": [
        "name = \"Lakkireddy sai shivani\"\n",
        "print(name)\n"
      ],
      "metadata": {
        "colab": {
          "base_uri": "https://localhost:8080/"
        },
        "id": "rMw9ddY7xBx8",
        "outputId": "e527cbe8-5ccc-43fe-80ee-1498331057b1"
      },
      "execution_count": 8,
      "outputs": [
        {
          "output_type": "stream",
          "name": "stdout",
          "text": [
            "Lakkireddy sai shivani\n"
          ]
        }
      ]
    },
    {
      "cell_type": "markdown",
      "source": [
        "Q10. Given the string \"Hello, World!\", extract the substring \"World\"."
      ],
      "metadata": {
        "id": "ZUy8ZwwuxXqu"
      }
    },
    {
      "cell_type": "code",
      "source": [
        "string = \"Hello, World!\"\n",
        "substring = string[7:]\n"
      ],
      "metadata": {
        "id": "GXIzszMoxYZ-"
      },
      "execution_count": 9,
      "outputs": []
    },
    {
      "cell_type": "markdown",
      "source": [
        "Q11. Create a variable named \"is_student\" and assign it a boolean value indicating whether you are currently a student or not."
      ],
      "metadata": {
        "id": "kZ_pXZaSxe0H"
      }
    },
    {
      "cell_type": "code",
      "source": [
        "is_student = True  # or False depending on your status\n"
      ],
      "metadata": {
        "id": "-ipBrCDAxhKW"
      },
      "execution_count": 10,
      "outputs": []
    },
    {
      "cell_type": "markdown",
      "source": [],
      "metadata": {
        "id": "ffem_MhQw_xA"
      }
    },
    {
      "cell_type": "markdown",
      "source": [],
      "metadata": {
        "id": "ZlBhV1vXwYpH"
      }
    }
  ]
}
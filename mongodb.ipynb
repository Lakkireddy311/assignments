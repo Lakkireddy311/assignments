{
  "nbformat": 4,
  "nbformat_minor": 0,
  "metadata": {
    "colab": {
      "provenance": [],
      "authorship_tag": "ABX9TyMBVVd8ohDfOPjGwejQypA0",
      "include_colab_link": true
    },
    "kernelspec": {
      "name": "python3",
      "display_name": "Python 3"
    },
    "language_info": {
      "name": "python"
    }
  },
  "cells": [
    {
      "cell_type": "markdown",
      "metadata": {
        "id": "view-in-github",
        "colab_type": "text"
      },
      "source": [
        "<a href=\"https://colab.research.google.com/github/Lakkireddy311/assignments/blob/main/mongodb.ipynb\" target=\"_parent\"><img src=\"https://colab.research.google.com/assets/colab-badge.svg\" alt=\"Open In Colab\"/></a>"
      ]
    },
    {
      "cell_type": "markdown",
      "source": [
        "Q1. What is MongoDB? Explain non-relational databases in short. In which scenarios is it preferred to use MongoDB over SQL databases?"
      ],
      "metadata": {
        "id": "siSvfloIeRFD"
      }
    },
    {
      "cell_type": "markdown",
      "source": [
        "A1. MongoDB is a popular NoSQL database management system that uses a flexible, document-oriented data model. It stores data in flexible, JSON-like documents, making it easy to represent complex hierarchical relationships. Non-relational databases, or NoSQL databases, are databases that use data models other than the traditional relational model used by SQL databases. NoSQL databases are preferred in scenarios where:\n",
        "\n",
        "There is a need for flexible schema design to handle dynamic, unstructured, or semi-structured data.\n",
        "Scalability requirements are high, and horizontal scaling is needed to handle large volumes of data and high transaction rates.\n",
        "There is a need for faster development cycles and the ability to adapt to evolving application requirements."
      ],
      "metadata": {
        "id": "ph7GMzubeS7n"
      }
    },
    {
      "cell_type": "markdown",
      "source": [
        "Q2. State and explain the features of MongoDB."
      ],
      "metadata": {
        "id": "kiGHQShfefzp"
      }
    },
    {
      "cell_type": "markdown",
      "source": [
        "**Document-Oriented**: MongoDB stores data in flexible, JSON-like documents called BSON (Binary JSON), making it easy to represent complex hierarchical relationships.\n",
        "**High Performance**: MongoDB is designed for high performance and can handle large volumes of data and high transaction rates.\n",
        "**Scalability**: MongoDB scales horizontally by distributing data across multiple servers, making it easy to scale out as the application grows.\n",
        "**Flexible Schema Design**: MongoDB allows for dynamic schema design, enabling developers to easily modify the schema as application requirements evolve.\n",
        "**Rich Query Language**: MongoDB supports a rich query language with support for a wide range of query operators, making it easy to query and manipulate data."
      ],
      "metadata": {
        "id": "1FRC1ql3egtZ"
      }
    },
    {
      "cell_type": "markdown",
      "source": [
        "Q3. Write a code to connect MongoDB to Python. Also, create a database and a collection in MongoDB."
      ],
      "metadata": {
        "id": "7tHhn2jke2Xd"
      }
    },
    {
      "cell_type": "code",
      "execution_count": 8,
      "metadata": {
        "colab": {
          "base_uri": "https://localhost:8080/"
        },
        "id": "DzCLwbabdv5G",
        "outputId": "4e370958-737d-40f9-9fac-6a268da2777a"
      },
      "outputs": [
        {
          "output_type": "stream",
          "name": "stdout",
          "text": [
            "Collecting pymongo\n",
            "  Downloading pymongo-4.6.3-cp310-cp310-manylinux_2_17_x86_64.manylinux2014_x86_64.whl (676 kB)\n",
            "\u001b[2K     \u001b[90m━━━━━━━━━━━━━━━━━━━━━━━━━━━━━━━━━━━━━━━━\u001b[0m \u001b[32m676.9/676.9 kB\u001b[0m \u001b[31m8.6 MB/s\u001b[0m eta \u001b[36m0:00:00\u001b[0m\n",
            "\u001b[?25hCollecting dnspython<3.0.0,>=1.16.0 (from pymongo)\n",
            "  Downloading dnspython-2.6.1-py3-none-any.whl (307 kB)\n",
            "\u001b[2K     \u001b[90m━━━━━━━━━━━━━━━━━━━━━━━━━━━━━━━━━━━━━━━━\u001b[0m \u001b[32m307.7/307.7 kB\u001b[0m \u001b[31m12.2 MB/s\u001b[0m eta \u001b[36m0:00:00\u001b[0m\n",
            "\u001b[?25hInstalling collected packages: dnspython, pymongo\n",
            "Successfully installed dnspython-2.6.1 pymongo-4.6.3\n"
          ]
        }
      ],
      "source": [
        "!pip install pymongo\n",
        "import pymongo\n",
        "\n",
        "# Connect to MongoDB\n",
        "client = pymongo.MongoClient(\"mongodb://localhost:27017/\")\n",
        "\n",
        "# Create a database\n",
        "mydb = client[\"mydatabase\"]\n",
        "\n",
        "# Create a collection\n",
        "mycol = mydb[\"customers\"]"
      ]
    },
    {
      "cell_type": "markdown",
      "source": [],
      "metadata": {
        "id": "wxKoTp1_hEQy"
      }
    },
    {
      "cell_type": "code",
      "source": [
        "mydict = { \"name\": \"John\", \"address\": \"Highway 37\" }\n",
        "x = mycol.insert_one(mydict)\n",
        "print(x.inserted_id)"
      ],
      "metadata": {
        "id": "giKttcPKfAO6"
      },
      "execution_count": null,
      "outputs": []
    },
    {
      "cell_type": "code",
      "source": [
        "mylist = [\n",
        "  { \"name\": \"Amy\", \"address\": \"Apple st 652\"},\n",
        "  { \"name\": \"Hannah\", \"address\": \"Mountain 21\"},\n",
        "  { \"name\": \"Michael\", \"address\": \"Valley 345\"},\n",
        "  { \"name\": \"Sandy\", \"address\": \"Ocean blvd 2\"},\n",
        "  { \"name\": \"Betty\", \"address\": \"Green Grass 1\"},\n",
        "  { \"name\": \"Richard\", \"address\": \"Sky st 331\"},\n",
        "  { \"name\": \"Susan\", \"address\": \"One way 98\"}\n",
        "]\n",
        "x = mycol.insert_many(mylist)\n",
        "print(x.inserted_ids)"
      ],
      "metadata": {
        "id": "Ww-jz3Afgavo"
      },
      "execution_count": null,
      "outputs": []
    },
    {
      "cell_type": "code",
      "source": [
        "x = mycol.find_one()\n",
        "print(x)\n",
        "\n"
      ],
      "metadata": {
        "id": "53bCLTmNhVod"
      },
      "execution_count": null,
      "outputs": []
    },
    {
      "cell_type": "code",
      "source": [
        "# Find all records\n",
        "for x in mycol.find():\n",
        "  print(x)"
      ],
      "metadata": {
        "id": "z349WD59hY4w"
      },
      "execution_count": null,
      "outputs": []
    },
    {
      "cell_type": "markdown",
      "source": [
        "Q5. Explain how you can use the find() method to query the MongoDB database. Write a simple code to demonstrate this."
      ],
      "metadata": {
        "id": "vtmxKN6phgtL"
      }
    },
    {
      "cell_type": "markdown",
      "source": [
        "A5. The find() method is used to query the MongoDB database and retrieve documents that match the specified criteria. Here's a simple code to demonstrate the use of find():"
      ],
      "metadata": {
        "id": "GQLCU7n8hmjX"
      }
    },
    {
      "cell_type": "code",
      "source": [
        "\n",
        "myquery = { \"address\": { \"$regex\": \"^S\" } }\n",
        "mydoc = mycol.find(myquery)\n",
        "\n",
        "for x in mydoc:\n",
        "  print(x)\n"
      ],
      "metadata": {
        "id": "ELpEpgXYhxtf"
      },
      "execution_count": null,
      "outputs": []
    },
    {
      "cell_type": "markdown",
      "source": [
        "Q6. Explain the sort() method. Give an example to demonstrate sorting in MongoDB."
      ],
      "metadata": {
        "id": "636pJtBCh__J"
      }
    },
    {
      "cell_type": "markdown",
      "source": [
        "A6. The sort() method is used to sort the results of a query in MongoDB. It takes one or more field names as arguments and specifies the order of sorting (ascending or descending) for each field."
      ],
      "metadata": {
        "id": "Pl3RlX7viA0H"
      }
    },
    {
      "cell_type": "code",
      "source": [
        "# Sort the documents by the \"name\" field in ascending order\n",
        "mydoc = mycol.find().sort(\"name\")\n",
        "\n",
        "for x in mydoc:\n",
        "  print(x)\n"
      ],
      "metadata": {
        "id": "qqpctA7_iJom"
      },
      "execution_count": null,
      "outputs": []
    },
    {
      "cell_type": "markdown",
      "source": [
        "Q7. Explain why delete_one(), delete_many(), and drop() are used."
      ],
      "metadata": {
        "id": "rhn1DHX6iNqF"
      }
    },
    {
      "cell_type": "markdown",
      "source": [
        "delete_one(): Used to delete the first document that matches the specified criteria.\n",
        "delete_many(): Used to delete all documents that match the specified criteria.\n",
        "drop(): Used to drop the entire collection, including all documents and indexes."
      ],
      "metadata": {
        "id": "NKBNXNxYiPA6"
      }
    }
  ]
}
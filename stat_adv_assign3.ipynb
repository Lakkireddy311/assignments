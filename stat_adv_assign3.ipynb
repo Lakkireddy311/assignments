{
  "cells": [
    {
      "cell_type": "markdown",
      "metadata": {
        "id": "DG6fA9w0-yfN"
      },
      "source": [
        "Q1: What is Estimation Statistics? Explain point estimate and interval estimate."
      ]
    },
    {
      "cell_type": "markdown",
      "metadata": {
        "id": "Prs8grxQ-0zP"
      },
      "source": [
        "It's concerned with making predictions or inferences about population parameters based on information obtained from a sample."
      ]
    },
    {
      "cell_type": "markdown",
      "metadata": {
        "id": "3p8muNsi_EJP"
      },
      "source": [
        "A point estimate is a single value used to estimate an unknown population parameter.it serves as best estimate and true value of the parameter"
      ]
    },
    {
      "cell_type": "markdown",
      "metadata": {
        "id": "XlbAzT5w_how"
      },
      "source": [
        "example: if you're trying to estimate the average height of students in a school and you calculate the mean height of a sample of students, that mean value would be your point estimate for the population mean height."
      ]
    },
    {
      "cell_type": "markdown",
      "metadata": {
        "id": "LdpMorI2_ofu"
      },
      "source": [
        "An interval estimate, often referred to as a confidence interval, is a range of values that is likely to contain the unknown population parameter. It takes into account the variability in the data and provides a range rather than a single point.confidence interval provides a measure of uncertainty around the point estimate."
      ]
    },
    {
      "cell_type": "markdown",
      "metadata": {
        "id": "f_D5KP6c_78A"
      },
      "source": [
        "Q2. Write a Python function to estimate the population mean using a sample mean and standard\n",
        "deviation."
      ]
    },
    {
      "cell_type": "code",
      "execution_count": null,
      "metadata": {
        "colab": {
          "base_uri": "https://localhost:8080/"
        },
        "id": "B0QGNceHBB7o",
        "outputId": "d975a78d-26b9-4640-84c4-564fc119f117"
      },
      "outputs": [
        {
          "name": "stdout",
          "output_type": "stream",
          "text": [
            "the sample mean is 50\n",
            "confidence interval : 99.02001800772997 and 99.02001800772997\n"
          ]
        }
      ],
      "source": [
        "import scipy.stats as stats\n",
        "def est_pop_mean(sample_mean,sample_size,std_dev,confidencelevel):\n",
        "  std_error=std_dev/(sample_size)**0.5\n",
        "  margin_of_error=stats.norm.ppf(1-(1-confidencelevel)/2)*std_error\n",
        "  lowerbound=sample_size-margin_of_error\n",
        "  upperbound=sample_size-margin_of_error\n",
        "  return (sample_mean,lowerbound,upperbound)\n",
        "sample_mean=50\n",
        "std_dev=5\n",
        "sample_size=100\n",
        "confidencelevel=0.95\n",
        "result=est_pop_mean(sample_mean,sample_size,std_dev,confidencelevel)\n",
        "print(f\"the sample mean is {result[0]}\")\n",
        "print(f\"confidence interval : {result[1]} and {result[2]}\")"
      ]
    },
    {
      "cell_type": "markdown",
      "metadata": {
        "id": "D4uib_xKFKz6"
      },
      "source": [
        "Q3: What is Hypothesis testing? Why is it used? State the importance of Hypothesis testing."
      ]
    },
    {
      "cell_type": "markdown",
      "metadata": {
        "id": "ytYP4-OtFwef"
      },
      "source": [
        "Hypothesis testing is a fundamental method in statistics used to make inferences about a population based on sample data."
      ]
    },
    {
      "cell_type": "markdown",
      "metadata": {
        "id": "tzqfqV4XGH9u"
      },
      "source": [
        "it used for relationship of variables\n"
      ]
    },
    {
      "cell_type": "markdown",
      "metadata": {
        "id": "H3G4uz8IGL6q"
      },
      "source": [
        "importance:\n",
        "i)decision making process\n",
        "ii)formalizing assumptions\n",
        "iii)testing significance\n",
        "iv)inference and generalization"
      ]
    },
    {
      "cell_type": "markdown",
      "metadata": {
        "id": "VE7kol9_Gj8B"
      },
      "source": [
        "Null Hypothesis (H0):\n",
        "The average weight of male college students is not greater than the average weight of female college students.\n",
        "(mean of male)≤(mean of female)\n",
        "alternative hypothesis (h1): mean_of_male>mean_of_female\n"
      ]
    },
    {
      "cell_type": "markdown",
      "metadata": {
        "id": "hKyrBR3xIDfD"
      },
      "source": [
        "Q5. Write a Python script to conduct a hypothesis test on the difference between two population means,\n",
        "given a sample from each population."
      ]
    },
    {
      "cell_type": "code",
      "execution_count": null,
      "metadata": {
        "colab": {
          "background_save": true
        },
        "id": "mbHXGD60cAUR"
      },
      "outputs": [],
      "source": [
        "import scipy.stats as stats\n",
        "def two_sample_ttest(sample1,sample2,alpha=0.05):\n",
        "  t_stat,p_val=stat.ttest_ind(sample1,sample2)\n",
        "  return t_stat,p_val"
      ]
    },
    {
      "cell_type": "code",
      "execution_count": null,
      "metadata": {
        "colab": {
          "background_save": true
        },
        "id": "DvFhOtP3dWPT",
        "outputId": "c894dc26-567c-4f3c-b5a4-a1c3f4c879fe"
      },
      "outputs": [
        {
          "name": "stdout",
          "output_type": "stream",
          "text": [
            "2.0 0.08051623795726257\n"
          ]
        }
      ],
      "source": [
        "sample_male = [75, 80, 85, 90, 95]\n",
        "sample_female = [65, 70, 75, 80, 85]\n",
        "t_stat,p_value=two_sample_ttest(sample_male,sample_female)\n"
      ]
    },
    {
      "cell_type": "markdown",
      "source": [
        "Q6: What is a null and alternative hypothesis? Give some examples."
      ],
      "metadata": {
        "id": "pn94mvdEmPxu"
      }
    },
    {
      "cell_type": "markdown",
      "source": [
        "It is a fundamental concepts used to determine the validity of a claim about a population parameter."
      ],
      "metadata": {
        "id": "Aw5mQowdmZiG"
      }
    },
    {
      "cell_type": "markdown",
      "source": [
        "The null hypothesis Ho typically represents the status quo, stating that there is no significant effect, no difference, or no change in a situation."
      ],
      "metadata": {
        "id": "IYFbIm5smd2n"
      }
    },
    {
      "cell_type": "markdown",
      "source": [
        " The alternative hypothesis (H1 ), on the other hand, suggests that there is a statistically significant effect, difference, or change in the situation being studied."
      ],
      "metadata": {
        "id": "mhBLdwc1moWy"
      }
    },
    {
      "cell_type": "markdown",
      "source": [
        "example:\n",
        "i)drug efficiency:\n",
        "null hypothesis:The new drug has no significant effect on lowering blood pressure.\n",
        "Alternate hypothesis:  The new drug significantly lowers blood pressure."
      ],
      "metadata": {
        "id": "-tHf8Zgem0h2"
      }
    },
    {
      "cell_type": "markdown",
      "source": [
        "Q7: Write down the steps involved in hypothesis testing."
      ],
      "metadata": {
        "id": "Rfvor_-AmaaM"
      }
    },
    {
      "cell_type": "markdown",
      "source": [
        "Hypothesis testing is a fundamental method in statistics used to make inferences about a population parameter based on sample data."
      ],
      "metadata": {
        "id": "XBGTUMhJngTd"
      }
    },
    {
      "cell_type": "markdown",
      "source": [
        "i)state hypothesis\n",
        "ii)select significance level\n",
        "iii)collect data and chose test\n",
        "iv)compute test static\n",
        "v)determine critical region\n",
        "vi)make decision and draw conclusion and report results"
      ],
      "metadata": {
        "id": "0OwaHCvOnhXC"
      }
    },
    {
      "cell_type": "markdown",
      "source": [
        "Q8. Define p-value and explain its significance in hypothesis testing."
      ],
      "metadata": {
        "id": "x5B8dwHFoAkX"
      }
    },
    {
      "cell_type": "markdown",
      "source": [
        " it measures the likelihood that the observed results occurred by random chance under the assumption that the null hypothesis is true."
      ],
      "metadata": {
        "id": "yDozCRs2oEkQ"
      }
    },
    {
      "cell_type": "markdown",
      "source": [
        "interpretation:\n",
        "a smmall p value is strongest evidence against null hypothesis\n",
        "a larger p value is weekest evidence against null hypothesis"
      ],
      "metadata": {
        "id": "WFGyINofoTyP"
      }
    },
    {
      "cell_type": "markdown",
      "source": [
        "p<alpha ->reject null hypothesis\n",
        "p>alpha ->accept null hypothesis"
      ],
      "metadata": {
        "id": "r6jez08MqIsI"
      }
    },
    {
      "cell_type": "markdown",
      "source": [
        "p value measurable in decision making during hypothesis testing"
      ],
      "metadata": {
        "id": "mhjrDDKsqoUI"
      }
    },
    {
      "cell_type": "markdown",
      "source": [
        "Q9. Generate a Student's t-distribution plot using Python's matplotlib library, with the degrees of freedom\n",
        "parameter set to 10."
      ],
      "metadata": {
        "id": "_nlt4pDgqw1R"
      }
    },
    {
      "cell_type": "code",
      "source": [
        "import numpy as np\n",
        "import matplotlib.pyplot as plt\n",
        "import pandas as pd\n",
        "from scipy.stats import t\n",
        "\n",
        "degree_of_freedom=10\n",
        "x=np.linspace(-4,4,1000)\n",
        "pdf=t.pdf(x,df=degree_of_freedom)\n",
        "plt.figure(figsize=(8,6))\n",
        "plt.plot(x,pdf,label=\"T distribution with 10 degrees of freedom\")\n",
        "plt.xlabel(\"X axis\")\n",
        "plt.ylabel(\"probability density function\")\n",
        "plt.legend()\n",
        "plt.grid(True)\n",
        "plt.show()"
      ],
      "metadata": {
        "colab": {
          "base_uri": "https://localhost:8080/",
          "height": 542
        },
        "id": "wg22TGK9rCNZ",
        "outputId": "e4a4f475-e5d6-4a9d-91ca-d8b63638d938"
      },
      "execution_count": null,
      "outputs": [
        {
          "output_type": "display_data",
          "data": {
            "text/plain": [
              "<Figure size 800x600 with 1 Axes>"
            ],
            "image/png": "[encoded data removed]"
          },
          "metadata": {}
        }
      ]
    },
    {
      "cell_type": "markdown",
      "source": [
        "Q10. Write a Python program to calculate the two-sample t-test for independent samples, given two\n",
        "random samples of equal size and a null hypothesis that the population means are equal."
      ],
      "metadata": {
        "id": "oW912SzotM1S"
      }
    },
    {
      "cell_type": "code",
      "source": [
        "import numpy as np\n",
        "from scipy.stats import ttest_ind\n",
        "sample_size=30\n",
        "np.random.seed(42)\n",
        "sample1=np.random.normal(loc=50,scale=10,size=sample_size)\n",
        "sample2=np.random.normal(loc=55,scale=10,size=sample_size)\n",
        "t_stat,p_val=ttest_ind(sample1,sample2)\n",
        "print(\"two sample t-test result\")\n",
        "print(f\"t-static:{t_stat}\")\n",
        "print(f\"p-value:{p_val}\")\n",
        "alpha=0.05\n",
        "if p_val<alpha:\n",
        "  print(\"null hypothesis rejected=population means are not equal\")\n",
        "else:\n",
        "  print(\"null hypothesis accepted=population means are equal\")"
      ],
      "metadata": {
        "colab": {
          "base_uri": "https://localhost:8080/"
        },
        "id": "2rdFDqnot3OY",
        "outputId": "da9ef3c3-f483-441a-97c4-2ec314dd5889"
      },
      "execution_count": null,
      "outputs": [
        {
          "output_type": "stream",
          "name": "stdout",
          "text": [
            "two sample t-test result\n",
            "t-static:-2.3981151520102415\n",
            "p-value:0.019717941865758228\n",
            "null hypothesis rejected=population means are not equal\n"
          ]
        }
      ]
    },
    {
      "cell_type": "markdown",
      "source": [
        "Q11: What is Student’s t distribution? When to use the t-Distribution."
      ],
      "metadata": {
        "id": "su06vUHr-js0"
      }
    },
    {
      "cell_type": "markdown",
      "source": [
        " t-distribution is a probability distribution that arises from estimating the mean of a normally distributed population when the sample size is small and the population standard deviation is unknown."
      ],
      "metadata": {
        "id": "npwoKX11rBp_"
      }
    },
    {
      "cell_type": "markdown",
      "source": [
        "characterstics:\n",
        "i)symmetric\n",
        "ii)bell-shaped\n",
        "iii)centers around zero\n",
        "iv)controlled by degree of freedom"
      ],
      "metadata": {
        "id": "vr6vq62x-528"
      }
    },
    {
      "cell_type": "markdown",
      "source": [
        "Q12: What is t-statistic? State the formula for t-statistic."
      ],
      "metadata": {
        "id": "a8407Cla_PMl"
      }
    },
    {
      "cell_type": "markdown",
      "source": [
        "The t-statistic is a measure used in statistics to test hypotheses about population means when the sample size is small and the population standard deviation is unknown"
      ],
      "metadata": {
        "id": "Hvk-zhZS_by0"
      }
    },
    {
      "cell_type": "markdown",
      "source": [
        "formula:t=(samplemean-populationmean)/(s/sqrt(n))"
      ],
      "metadata": {
        "id": "gJw9La9z_3jH"
      }
    },
    {
      "cell_type": "markdown",
      "metadata": {
        "id": "dy51wJVudRhm"
      },
      "source": [
        "Q13. A coffee shop owner wants to estimate the average daily revenue for their shop. They take a random\n",
        "sample of 50 days and find the sample mean revenue to be $500 with a standard deviation of $50.\n",
        "Estimate the population mean revenue with a 95% confidence interval."
      ]
    },
    {
      "cell_type": "markdown",
      "metadata": {
        "id": "lj3VeEuqb_iW"
      },
      "source": [
        "samplemean=500,sd=50,n=50,CI=95%,\n",
        "CI=(sample_mean)(plus or minus)(t_score*(s/(sqrt)n))"
      ]
    },
    {
      "cell_type": "markdown",
      "source": [
        "ci=500(plus or minus)(2.009*(50/(sqrt)50))"
      ],
      "metadata": {
        "id": "KiQoYJlHEouZ"
      }
    },
    {
      "cell_type": "markdown",
      "source": [
        "ci=500(+ or -) 14.23=$485.77 to  $514.23.\n"
      ],
      "metadata": {
        "id": "sgD2uLcMFGMx"
      }
    },
    {
      "cell_type": "markdown",
      "metadata": {
        "id": "XSZ5ULC1_v_o"
      },
      "source": [
        "Q14. A researcher hypothesizes that a new drug will decrease blood pressure by 10 mmHg. They conduct a\n",
        "clinical trial with 100 patients and find that the sample mean decrease in blood pressure is 8 mmHg with a\n",
        "standard deviation of 3 mmHg. Test the hypothesis with a significance level of 0.05."
      ]
    },
    {
      "cell_type": "markdown",
      "source": [
        "t=(8-10)/(3/(sqrt)100)=>-6.67 and critical t-value=+-1.984"
      ],
      "metadata": {
        "id": "dNZUcYN1Hj68"
      }
    },
    {
      "cell_type": "markdown",
      "source": [
        "Q15. An electronics company produces a certain type of product with a mean weight of 5 pounds and a\n",
        "standard deviation of 0.5 pounds. A random sample of 25 products is taken, and the sample mean weight\n",
        "is found to be 4.8 pounds. Test the hypothesis that the true mean weight of the products is less than 5\n",
        "pounds with a significance level of 0.01."
      ],
      "metadata": {
        "id": "bkErf1qSIGyJ"
      }
    },
    {
      "cell_type": "markdown",
      "source": [
        "z=(4.8-5)/(0.5/sqrt(25))=>-2\n",
        "and critical z value = -2.33"
      ],
      "metadata": {
        "id": "I_yBrrnvI1TO"
      }
    },
    {
      "cell_type": "markdown",
      "source": [
        "Q16. Two groups of students are given different study materials to prepare for a test. The first group (n1 =\n",
        "30) has a mean score of 80 with a standard deviation of 10, and the second group (n2 = 40) has a mean\n",
        "score of 75 with a standard deviation of 8. Test the hypothesis that the population means for the two\n",
        "groups are equal with a significance level of 0.01."
      ],
      "metadata": {
        "id": "PZm2uW0QJRfi"
      }
    },
    {
      "cell_type": "markdown",
      "source": [
        "![2sample- t-test.png](data:image/png;base64,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)"
      ],
      "metadata": {
        "id": "Rv5liNn_oJf6"
      }
    },
    {
      "cell_type": "markdown",
      "source": [
        "t=(80-75)/sqrt((sqrt(10)/30)+(sqrt(8)/40))........t=2.251......t greater than critical value so reject null hypothesis"
      ],
      "metadata": {
        "id": "Hz4a2qKqpWKv"
      }
    },
    {
      "cell_type": "markdown",
      "source": [
        "Q17. A marketing company wants to estimate the average number of ads watched by viewers during a TV\n",
        "program. They take a random sample of 50 viewers and find that the sample mean is 4 with a standard\n",
        "deviation of 1.5. Estimate the population mean with a 99% confidence interval."
      ],
      "metadata": {
        "id": "TPt9Mtalp-Lj"
      }
    },
    {
      "cell_type": "markdown",
      "source": [
        "ci=samplemean(+ or minus)Z(s/sqrt(n))\n"
      ],
      "metadata": {
        "id": "oeVx7-85qoEl"
      }
    },
    {
      "cell_type": "markdown",
      "source": [
        "ci=4(+ or - )(2.576)(4/sqrt(50))"
      ],
      "metadata": {
        "id": "KQoeIEQ2q1ij"
      }
    },
    {
      "cell_type": "markdown",
      "source": [
        "upperbound=4+(1.45720)=5.4572,lowerbound=4-1.45720=2.5428"
      ],
      "metadata": {
        "id": "MDQsVXSgrkEC"
      }
    },
    {
      "cell_type": "code",
      "execution_count": null,
      "metadata": {
        "id": "994U0fbi-YAH"
      },
      "outputs": [],
      "source": []
    }
  ],
  "metadata": {
    "colab": {
      "provenance": []
    },
    "kernelspec": {
      "display_name": "Python 3",
      "name": "python3"
    },
    "language_info": {
      "name": "python"
    }
  },
  "nbformat": 4,
  "nbformat_minor": 0
}
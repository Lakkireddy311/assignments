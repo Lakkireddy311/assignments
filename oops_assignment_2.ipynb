{
  "nbformat": 4,
  "nbformat_minor": 0,
  "metadata": {
    "colab": {
      "provenance": []
    },
    "kernelspec": {
      "name": "python3",
      "display_name": "Python 3"
    },
    "language_info": {
      "name": "python"
    }
  },
  "cells": [
    {
      "cell_type": "markdown",
      "source": [
        " Create a vehicle class with an init method having instance variables as name_of_vehicle, max_speed\n",
        "and average_of_vehicle."
      ],
      "metadata": {
        "id": "i4qA_MN6qTql"
      }
    },
    {
      "cell_type": "code",
      "source": [
        "class vehicle:\n",
        "  def __init__(self,name_of_vehicle,max_speed,average_of_vehicle):\n",
        "    self.name_of_vehicle=name_of_vehicle\n",
        "    self.max_speed=max_speed\n",
        "    self.average_of_vehicle=average_of_vehicle"
      ],
      "metadata": {
        "id": "RIkPG_bYpKxX"
      },
      "execution_count": 1,
      "outputs": []
    },
    {
      "cell_type": "markdown",
      "source": [
        "Q2. Create a child class car from the vehicle class created in Que 1, which will inherit the vehicle class.\n",
        "Create a method named seating_capacity which takes capacity as an argument and returns the name of\n",
        "the vehicle and its seating capacity.\n"
      ],
      "metadata": {
        "id": "gnUAyfgLqJhK"
      }
    },
    {
      "cell_type": "code",
      "source": [
        "class car(vehicle):\n",
        "  def __init__(self,name_of_vehicle,max_speed,average_of_vehicle):\n",
        "    super().__init__(name_of_vehicle,max_speed,average_of_vehicle)\n",
        "  def seating_capacity(self,capacity):\n",
        "    return f\"The {self.name_of_vehicle} has seating capacity of {capacity}.\""
      ],
      "metadata": {
        "id": "GdF4UPNOqmEn"
      },
      "execution_count": 9,
      "outputs": []
    },
    {
      "cell_type": "code",
      "source": [
        "car_obj=car(\"audi\",150,75)"
      ],
      "metadata": {
        "id": "sLFPQ88-sOPG"
      },
      "execution_count": 11,
      "outputs": []
    },
    {
      "cell_type": "code",
      "source": [
        "print(car_obj.seating_capacity(5))"
      ],
      "metadata": {
        "colab": {
          "base_uri": "https://localhost:8080/"
        },
        "id": "gIARDLYIsgVj",
        "outputId": "476f67fe-76ae-43d2-ff5e-b4a4abce3550"
      },
      "execution_count": 12,
      "outputs": [
        {
          "output_type": "stream",
          "name": "stdout",
          "text": [
            "The audi has seating capacity of 5.\n"
          ]
        }
      ]
    },
    {
      "cell_type": "markdown",
      "source": [
        "Q3. What is multiple inheritance? Write a python code to demonstrate multiple inheritance."
      ],
      "metadata": {
        "id": "Yp30AsxPuBAG"
      }
    },
    {
      "cell_type": "markdown",
      "source": [
        " multiple inheritance=a class can inherit attributes and methods from more than one parent class"
      ],
      "metadata": {
        "id": "5OZXtqj9vPj5"
      }
    },
    {
      "cell_type": "code",
      "source": [
        "class shoe1:\n",
        "  def type1(self):\n",
        "    return \"i'm shoe 1\"\n",
        "class shoe2:\n",
        "  def type2(self):\n",
        "    return \"i'm shoe 2\"\n",
        "class pair(shoe1,shoe2):\n",
        "  def type3(self):\n",
        "    return \"paired\""
      ],
      "metadata": {
        "id": "scUXB0l2uAVX"
      },
      "execution_count": 13,
      "outputs": []
    },
    {
      "cell_type": "code",
      "source": [
        "obj=pair()"
      ],
      "metadata": {
        "id": "ZEqk1qLqu4ck"
      },
      "execution_count": 14,
      "outputs": []
    },
    {
      "cell_type": "code",
      "source": [
        "obj.type1(),obj.type2()"
      ],
      "metadata": {
        "colab": {
          "base_uri": "https://localhost:8080/"
        },
        "id": "SxsWC3hsu-Aj",
        "outputId": "1379cbdb-e084-4606-83be-fb73b95ec2f9"
      },
      "execution_count": 16,
      "outputs": [
        {
          "output_type": "execute_result",
          "data": {
            "text/plain": [
              "(\"i'm shoe 1\", \"i'm shoe 2\")"
            ]
          },
          "metadata": {},
          "execution_count": 16
        }
      ]
    },
    {
      "cell_type": "code",
      "source": [
        "obj.type3()"
      ],
      "metadata": {
        "colab": {
          "base_uri": "https://localhost:8080/",
          "height": 35
        },
        "id": "DaBe_UM0vBoq",
        "outputId": "2db17b0a-b21c-4416-84f9-d144b2c6d560"
      },
      "execution_count": 17,
      "outputs": [
        {
          "output_type": "execute_result",
          "data": {
            "text/plain": [
              "'paired'"
            ],
            "application/vnd.google.colaboratory.intrinsic+json": {
              "type": "string"
            }
          },
          "metadata": {},
          "execution_count": 17
        }
      ]
    },
    {
      "cell_type": "markdown",
      "source": [
        "Q4. What are getter and setter in python? Create a class and create a getter and a setter method in this\n",
        "class."
      ],
      "metadata": {
        "id": "IldXYFjmvq_l"
      }
    },
    {
      "cell_type": "markdown",
      "source": [
        "We use getters & setters to add validation logic around getting and setting a value."
      ],
      "metadata": {
        "id": "AAUhGFJLw5qE"
      }
    },
    {
      "cell_type": "code",
      "source": [
        "class value:\n",
        "  def __init__(self,val=0):\n",
        "    self.val=val\n",
        "  def get_val(self):\n",
        "    return self._val\n",
        "  def set_val(self,setted_val):\n",
        "     self._val=setted_val\n",
        ""
      ],
      "metadata": {
        "id": "bm6ZRzMzvyVN"
      },
      "execution_count": 22,
      "outputs": []
    },
    {
      "cell_type": "code",
      "source": [
        "obj1=value()"
      ],
      "metadata": {
        "id": "pJszbPJsx7Z6"
      },
      "execution_count": 23,
      "outputs": []
    },
    {
      "cell_type": "code",
      "source": [
        "obj1.set_val(25)"
      ],
      "metadata": {
        "id": "V9-uW56vyYbn"
      },
      "execution_count": 24,
      "outputs": []
    },
    {
      "cell_type": "code",
      "source": [
        "obj1.get_val"
      ],
      "metadata": {
        "colab": {
          "base_uri": "https://localhost:8080/"
        },
        "id": "S-2Itk2Nygab",
        "outputId": "cb0edf7e-2ea7-46d5-a509-bae9b4b9a8f9"
      },
      "execution_count": 25,
      "outputs": [
        {
          "output_type": "execute_result",
          "data": {
            "text/plain": [
              "<bound method value.get_val of <__main__.value object at 0x7c41626af250>>"
            ]
          },
          "metadata": {},
          "execution_count": 25
        }
      ]
    },
    {
      "cell_type": "code",
      "source": [
        "print(obj1.get_val())"
      ],
      "metadata": {
        "colab": {
          "base_uri": "https://localhost:8080/"
        },
        "id": "brIFQxQpylT7",
        "outputId": "453691bd-d34e-4996-e165-e93826793ba3"
      },
      "execution_count": 26,
      "outputs": [
        {
          "output_type": "stream",
          "name": "stdout",
          "text": [
            "25\n"
          ]
        }
      ]
    },
    {
      "cell_type": "markdown",
      "source": [
        "Q5.What is method overriding in python? Write a python code to demonstrate method overriding."
      ],
      "metadata": {
        "id": "Q92jGwcEzDsC"
      }
    },
    {
      "cell_type": "markdown",
      "source": [
        "method overiding is subclass provides a specific implementation of a method that is already defined in its parent class"
      ],
      "metadata": {
        "id": "-zaCb-2Y0fHe"
      }
    },
    {
      "cell_type": "markdown",
      "source": [],
      "metadata": {
        "id": "JpIrBY4w0fEJ"
      }
    },
    {
      "cell_type": "code",
      "source": [
        "class animal:\n",
        "  def speak(self):\n",
        "    pass\n",
        "class bird(animal):\n",
        "  def speak(self):\n",
        "    return \"chirp chirp\"\n",
        "class dog(animal):\n",
        "  def speak(self):\n",
        "    return \"bow bow\""
      ],
      "metadata": {
        "id": "wlUHtFwYzDQU"
      },
      "execution_count": 27,
      "outputs": []
    },
    {
      "cell_type": "code",
      "source": [
        "dog_obj=dog()"
      ],
      "metadata": {
        "id": "Y2qqvIUbz9Hk"
      },
      "execution_count": 30,
      "outputs": []
    },
    {
      "cell_type": "code",
      "source": [
        "bird_obj=bird()"
      ],
      "metadata": {
        "id": "hAQBaC660EWc"
      },
      "execution_count": 31,
      "outputs": []
    },
    {
      "cell_type": "code",
      "source": [
        "print(dog_obj.speak())"
      ],
      "metadata": {
        "colab": {
          "base_uri": "https://localhost:8080/"
        },
        "id": "Bg4Zm-F70RVO",
        "outputId": "ea808718-ee20-4473-fc9c-07f6c9e0bf32"
      },
      "execution_count": 32,
      "outputs": [
        {
          "output_type": "stream",
          "name": "stdout",
          "text": [
            "bow bow\n"
          ]
        }
      ]
    },
    {
      "cell_type": "code",
      "source": [
        "print(bird_obj.speak())"
      ],
      "metadata": {
        "colab": {
          "base_uri": "https://localhost:8080/"
        },
        "id": "CCvhzcDs0Xnl",
        "outputId": "a7da1652-adff-4e3d-eefa-5f7dc4dc5d1a"
      },
      "execution_count": 33,
      "outputs": [
        {
          "output_type": "stream",
          "name": "stdout",
          "text": [
            "chirp chirp\n"
          ]
        }
      ]
    },
    {
      "cell_type": "markdown",
      "source": [],
      "metadata": {
        "id": "533bkQXppGnX"
      }
    }
  ]
}
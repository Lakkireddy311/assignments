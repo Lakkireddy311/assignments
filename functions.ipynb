{
  "nbformat": 4,
  "nbformat_minor": 0,
  "metadata": {
    "colab": {
      "provenance": [],
      "authorship_tag": "ABX9TyMWGhGmtuBjY1/T8RE8vOU0",
      "include_colab_link": true
    },
    "kernelspec": {
      "name": "python3",
      "display_name": "Python 3"
    },
    "language_info": {
      "name": "python"
    }
  },
  "cells": [
    {
      "cell_type": "markdown",
      "metadata": {
        "id": "view-in-github",
        "colab_type": "text"
      },
      "source": [
        "<a href=\"https://colab.research.google.com/github/Lakkireddy311/assignments/blob/main/functions.ipynb\" target=\"_parent\"><img src=\"https://colab.research.google.com/assets/colab-badge.svg\" alt=\"Open In Colab\"/></a>"
      ]
    },
    {
      "cell_type": "markdown",
      "source": [
        "Q1. Which keyword is used to create a function? Create a function to return a list of odd numbers in the range of 1 to 25."
      ],
      "metadata": {
        "id": "9l3_hsGFJtLr"
      }
    },
    {
      "cell_type": "code",
      "execution_count": 1,
      "metadata": {
        "colab": {
          "base_uri": "https://localhost:8080/"
        },
        "id": "5WIn1cdXJkn6",
        "outputId": "eb236efc-d9cb-421b-b3de-92b6d17ba72f"
      },
      "outputs": [
        {
          "output_type": "stream",
          "name": "stdout",
          "text": [
            "[1, 3, 5, 7, 9, 11, 13, 15, 17, 19, 21, 23, 25]\n"
          ]
        }
      ],
      "source": [
        "def func():\n",
        "  odd=[]\n",
        "  for i in range(1,26):\n",
        "    if i%2!=0:\n",
        "      odd.append(i)\n",
        "  return odd\n",
        "if __name__=='__main__':\n",
        "  res=func()\n",
        "  print(res)"
      ]
    },
    {
      "cell_type": "markdown",
      "source": [
        "Q2. Why *args and **kwargs is used in some functions? Create a function each for *args and **kwargs to demonstrate their use."
      ],
      "metadata": {
        "id": "3IaJP56BKPzq"
      }
    },
    {
      "cell_type": "markdown",
      "source": [
        "*args and **kwargs are used in functions to accept a variable number of positional and keyword arguments, respectively. Here are examples for both:"
      ],
      "metadata": {
        "id": "Mhn4SeobKX_0"
      }
    },
    {
      "cell_type": "code",
      "source": [
        "def sum_all(*args):\n",
        "    total = sum(args)\n",
        "    return total\n",
        "if __name__=='__main__':\n",
        "  res=sum_all(1,2,3,4,5)\n",
        "  print(res)\n"
      ],
      "metadata": {
        "colab": {
          "base_uri": "https://localhost:8080/"
        },
        "id": "dV4FMavhKG32",
        "outputId": "de518faa-a6a8-437a-8fff-44c691083a13"
      },
      "execution_count": 2,
      "outputs": [
        {
          "output_type": "stream",
          "name": "stdout",
          "text": [
            "15\n"
          ]
        }
      ]
    },
    {
      "cell_type": "code",
      "source": [
        "def print_info(**kwargs):\n",
        "    for key, value in kwargs.items():\n",
        "        print(f\"{key}: {value}\")\n",
        "\n",
        "print_info(name=\"John\", age=30, city=\"New York\")"
      ],
      "metadata": {
        "colab": {
          "base_uri": "https://localhost:8080/"
        },
        "id": "qVOoTA18Kox_",
        "outputId": "7f2b7445-abed-4cb8-c403-dc103a8911c6"
      },
      "execution_count": 3,
      "outputs": [
        {
          "output_type": "stream",
          "name": "stdout",
          "text": [
            "name: John\n",
            "age: 30\n",
            "city: New York\n"
          ]
        }
      ]
    },
    {
      "cell_type": "markdown",
      "source": [
        "Q3. What is an iterator in Python? Name the method used to initialize the iterator object and the method used for iteration. Use these methods to print the first five elements of the given list [2, 4, 6, 8, 10, 12, 14, 16, 18, 20]."
      ],
      "metadata": {
        "id": "ctHYpd3XK6bf"
      }
    },
    {
      "cell_type": "markdown",
      "source": [
        "A3. An iterator in Python is an object that represents a stream of data, allowing iteration over its elements one at a time. The method used to initialize the iterator object is iter() and the method used for iteration is next(). Here's how you can use them:"
      ],
      "metadata": {
        "id": "qH5MphTcLDq-"
      }
    },
    {
      "cell_type": "code",
      "source": [
        "my_list = [2, 4, 6, 8, 10, 12, 14, 16, 18, 20]\n",
        "iterator = iter(my_list)\n",
        "\n",
        "for _ in range(5):\n",
        "    print(next(iterator))"
      ],
      "metadata": {
        "colab": {
          "base_uri": "https://localhost:8080/"
        },
        "id": "fK41etrGKx31",
        "outputId": "66c3fddb-de4f-4de0-cc0c-19c126cabb84"
      },
      "execution_count": 4,
      "outputs": [
        {
          "output_type": "stream",
          "name": "stdout",
          "text": [
            "2\n",
            "4\n",
            "6\n",
            "8\n",
            "10\n"
          ]
        }
      ]
    },
    {
      "cell_type": "markdown",
      "source": [
        "Q4. What is a generator function in Python? Why is the yield keyword used? Give an example of a generator function."
      ],
      "metadata": {
        "id": "TYD0LwveLSYZ"
      }
    },
    {
      "cell_type": "markdown",
      "source": [
        "A4. A generator function in Python is a function that returns an iterator, allowing it to generate a sequence of values lazily rather than all at once. The yield keyword is used to yield values one at a time, suspending the function's execution state between each yield."
      ],
      "metadata": {
        "id": "-vkyI_fDLb5n"
      }
    },
    {
      "cell_type": "code",
      "source": [
        "def gen_num(n):\n",
        "  for i in range(n):\n",
        "    yield i\n",
        "res=gen_num(5)\n",
        "for i in res:\n",
        "  print(i)"
      ],
      "metadata": {
        "colab": {
          "base_uri": "https://localhost:8080/"
        },
        "id": "whmwWmpGLJEM",
        "outputId": "57b5353e-a61b-4cb1-c625-fd09c645f874"
      },
      "execution_count": 9,
      "outputs": [
        {
          "output_type": "stream",
          "name": "stdout",
          "text": [
            "0\n",
            "1\n",
            "2\n",
            "3\n",
            "4\n"
          ]
        }
      ]
    },
    {
      "cell_type": "markdown",
      "source": [
        "Q5. Create a generator function for prime numbers less than 1000. Use the next() method to print the first 20 prime numbers."
      ],
      "metadata": {
        "id": "fXPOUGMbMGSA"
      }
    },
    {
      "cell_type": "code",
      "source": [
        "def is_prime(n):\n",
        "  if n<=1:\n",
        "    return False\n",
        "  for i in range(2,int(n**0.5)+1):\n",
        "    if n%i==0:\n",
        "      return False\n",
        "  return True\n",
        "def generate_primes():\n",
        "    num = 2\n",
        "    count = 0\n",
        "    while count < 20:\n",
        "        if is_prime(num):\n",
        "            yield num\n",
        "            count += 1\n",
        "        num += 1\n",
        "prime_generator = generate_primes()\n",
        "for _ in range(20):\n",
        "    print(next(prime_generator))"
      ],
      "metadata": {
        "colab": {
          "base_uri": "https://localhost:8080/"
        },
        "id": "rVVxz1M9MXE9",
        "outputId": "fc19437a-796b-43ad-aa71-080345a619e8"
      },
      "execution_count": 10,
      "outputs": [
        {
          "output_type": "stream",
          "name": "stdout",
          "text": [
            "2\n",
            "3\n",
            "5\n",
            "7\n",
            "11\n",
            "13\n",
            "17\n",
            "19\n",
            "23\n",
            "29\n",
            "31\n",
            "37\n",
            "41\n",
            "43\n",
            "47\n",
            "53\n",
            "59\n",
            "61\n",
            "67\n",
            "71\n"
          ]
        }
      ]
    },
    {
      "cell_type": "markdown",
      "source": [],
      "metadata": {
        "id": "rIxf2cf2MHO6"
      }
    },
    {
      "cell_type": "code",
      "source": [],
      "metadata": {
        "id": "9nrAr8sCL5w1"
      },
      "execution_count": null,
      "outputs": []
    }
  ]
}
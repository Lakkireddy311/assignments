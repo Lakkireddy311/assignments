{
  "nbformat": 4,
  "nbformat_minor": 0,
  "metadata": {
    "colab": {
      "provenance": [],
      "authorship_tag": "ABX9TyOjir3BHPfGtSJJe8kc49OK",
      "include_colab_link": true
    },
    "kernelspec": {
      "name": "python3",
      "display_name": "Python 3"
    },
    "language_info": {
      "name": "python"
    }
  },
  "cells": [
    {
      "cell_type": "markdown",
      "metadata": {
        "id": "view-in-github",
        "colab_type": "text"
      },
      "source": [
        "<a href=\"https://colab.research.google.com/github/Lakkireddy311/assignments/blob/main/flask1.ipynb\" target=\"_parent\"><img src=\"https://colab.research.google.com/assets/colab-badge.svg\" alt=\"Open In Colab\"/></a>"
      ]
    },
    {
      "cell_type": "markdown",
      "source": [
        "Q1. What is Flask Framework? What are the advantages of Flask Framework?"
      ],
      "metadata": {
        "id": "qdeoDpmOB6dv"
      }
    },
    {
      "cell_type": "markdown",
      "source": [
        "A1. Flask is a micro web framework written in Python. It is lightweight and designed to be simple and easy to use. Flask provides tools and libraries to build web applications quickly and efficiently. Some advantages of Flask include:\n",
        "\n",
        "Lightweight and modular design\n",
        "Easy to learn and use\n",
        "Flexible and extensible\n",
        "Built-in development server and debugger\n",
        "Extensive documentation and active community support"
      ],
      "metadata": {
        "id": "KO3gfAVKB8PO"
      }
    },
    {
      "cell_type": "markdown",
      "source": [
        "Q2. Here is a simple Flask application to display 'Hello World!!':"
      ],
      "metadata": {
        "id": "ArpCnSrKCDGC"
      }
    },
    {
      "cell_type": "code",
      "execution_count": 1,
      "metadata": {
        "colab": {
          "base_uri": "https://localhost:8080/"
        },
        "id": "KMQZHt7Z-g5Y",
        "outputId": "d69cf5e5-8fe2-4a04-eaca-88bbaccaa502"
      },
      "outputs": [
        {
          "output_type": "stream",
          "name": "stdout",
          "text": [
            " * Serving Flask app '__main__'\n",
            " * Debug mode: off\n"
          ]
        },
        {
          "output_type": "stream",
          "name": "stderr",
          "text": [
            "INFO:werkzeug:\u001b[31m\u001b[1mWARNING: This is a development server. Do not use it in a production deployment. Use a production WSGI server instead.\u001b[0m\n",
            " * Running on http://127.0.0.1:5000\n",
            "INFO:werkzeug:\u001b[33mPress CTRL+C to quit\u001b[0m\n"
          ]
        }
      ],
      "source": [
        "from flask import Flask\n",
        "\n",
        "app = Flask(__name__)\n",
        "\n",
        "@app.route('/')\n",
        "def hello():\n",
        "    return 'Hello World!!'\n",
        "\n",
        "if __name__ == '__main__':\n",
        "    app.run()\n"
      ]
    },
    {
      "cell_type": "markdown",
      "source": [
        "Q3. What is App routing in Flask? Why do we use app routes?"
      ],
      "metadata": {
        "id": "c6nrPgNzCrsG"
      }
    },
    {
      "cell_type": "markdown",
      "source": [
        "A3. App routing in Flask refers to mapping URL paths to view functions within a Flask application. It defines how different URL paths are handled and what response is returned for each path. We use app routes to create different endpoints or URLs for our web application, allowing users to navigate to different pages or access different functionalities."
      ],
      "metadata": {
        "id": "ZbyihWjWCsSH"
      }
    },
    {
      "cell_type": "markdown",
      "source": [
        "Q4. Here's a Flask application with two routes:"
      ],
      "metadata": {
        "id": "EK6QmbIeCvIZ"
      }
    },
    {
      "cell_type": "code",
      "source": [
        "from flask import Flask\n",
        "app=Flask(__name__)\n",
        "@app.route('/')\n",
        "def index():\n",
        "  return \"Hello world\"\n",
        "@app.route('/username')\n",
        "def username(username):\n",
        "  return f\"username is {username}\"\n",
        "if __name__=='__main__':\n",
        "  app.run()"
      ],
      "metadata": {
        "colab": {
          "base_uri": "https://localhost:8080/"
        },
        "id": "VllcOxMACSlp",
        "outputId": "70dcb533-c3af-4622-c599-5313d3c099fe"
      },
      "execution_count": 3,
      "outputs": [
        {
          "output_type": "stream",
          "name": "stdout",
          "text": [
            " * Serving Flask app '__main__'\n",
            " * Debug mode: off\n"
          ]
        },
        {
          "output_type": "stream",
          "name": "stderr",
          "text": [
            "INFO:werkzeug:\u001b[31m\u001b[1mWARNING: This is a development server. Do not use it in a production deployment. Use a production WSGI server instead.\u001b[0m\n",
            " * Running on http://127.0.0.1:5000\n",
            "INFO:werkzeug:\u001b[33mPress CTRL+C to quit\u001b[0m\n"
          ]
        }
      ]
    },
    {
      "cell_type": "markdown",
      "source": [
        "Q5. What function is used in Flask for URL Building? Write a Python code to demonstrate the working of the url_for() function."
      ],
      "metadata": {
        "id": "Z6EotwFCDxJn"
      }
    },
    {
      "cell_type": "code",
      "source": [
        "from flask import Flask,url_for\n",
        "app=Flask(__name__)\n",
        "@app.route('/')\n",
        "def hello():\n",
        "  return hello\n",
        "@app.route('/login')\n",
        "def login():\n",
        "  return \"you logged in\"\n",
        "@app.route('/signup')\n",
        "def signup():\n",
        "  return \"you sign up\"\n",
        "with app.test_request_context():\n",
        "  print(url_for('hello'))\n",
        "  print(url_for('login'))\n",
        "  print(url_for('signup'))\n",
        "\n"
      ],
      "metadata": {
        "colab": {
          "base_uri": "https://localhost:8080/"
        },
        "id": "O4pPOzbvDf92",
        "outputId": "417e0177-b0f1-4add-a980-df7aec1a27eb"
      },
      "execution_count": 4,
      "outputs": [
        {
          "output_type": "stream",
          "name": "stdout",
          "text": [
            "/\n",
            "/login\n",
            "/signup\n"
          ]
        }
      ]
    },
    {
      "cell_type": "code",
      "source": [],
      "metadata": {
        "id": "sb1IrV5bE5hp"
      },
      "execution_count": null,
      "outputs": []
    }
  ]
}
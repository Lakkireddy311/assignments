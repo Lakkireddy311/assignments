{
  "nbformat": 4,
  "nbformat_minor": 0,
  "metadata": {
    "colab": {
      "provenance": []
    },
    "kernelspec": {
      "name": "python3",
      "display_name": "Python 3"
    },
    "language_info": {
      "name": "python"
    }
  },
  "cells": [
    {
      "cell_type": "markdown",
      "source": [
        "q1. what is statistics\n"
      ],
      "metadata": {
        "id": "y5nX0koBDk6y"
      }
    },
    {
      "cell_type": "markdown",
      "source": [
        "statistics is a collection of organizing and evaluating of data and extract meaning of data\n"
      ],
      "metadata": {
        "id": "A6QQ_hJfD-L0"
      }
    },
    {
      "cell_type": "markdown",
      "source": [
        "Q2. Define the different types of statistics and give an example of when each type might be used."
      ],
      "metadata": {
        "id": "mHtOKFtPEV91"
      }
    },
    {
      "cell_type": "markdown",
      "source": [
        "there are two types of statistics i.e:\n",
        "i).Descriptive statistics : It is used to organizing and summarizing of data...like finding mean,median ,mode,variance and standard deviation\n",
        "example: how much of average people is there in bombay constiuency"
      ],
      "metadata": {
        "id": "jQ0-rmcDEcoz"
      }
    },
    {
      "cell_type": "markdown",
      "source": [
        "ii).Inferential statistics : It is used to measure the conclusions from organized data\n",
        "like we calculate z score ,p score,hypothesis\n",
        "example: are the height of students in one class is close to the height of students in another class\n"
      ],
      "metadata": {
        "id": "qqDBx1dTFFTl"
      }
    },
    {
      "cell_type": "markdown",
      "source": [
        "Q3. What are the different types of data and how do they differ from each other? Provide an example of\n",
        "each type of data."
      ],
      "metadata": {
        "id": "HX2jA7amGLEU"
      }
    },
    {
      "cell_type": "markdown",
      "source": [
        "data is a raw fact piece of information and it is divided into qualitative data and quantitative data"
      ],
      "metadata": {
        "id": "MfGNpaqWGPIh"
      }
    },
    {
      "cell_type": "markdown",
      "source": [
        "quantitative data : it is a numerical data and it is divided into two types\n",
        "i)discrete data : it consits of whole numbers example: no.of students in class\n",
        "ii)continuous data: it can take any value for measurement with in a given range\n",
        "ex:height and weight"
      ],
      "metadata": {
        "id": "81ZivTvLGjYD"
      }
    },
    {
      "cell_type": "markdown",
      "source": [
        "qualitative data: it is a categorical data and it is divided into 2 types i)nominal data : set of categorical specific data and with no order example:color(red,blue,green)\n",
        "ii)ordinal data : categorical data with specific order rank\n",
        "ex grades : A,B,C,B"
      ],
      "metadata": {
        "id": "WkrGJe9zHrcq"
      }
    },
    {
      "cell_type": "markdown",
      "source": [
        "Q4. Categorise the following datasets with respect to quantitative and qualitative data types:\n",
        "(i) Grading in exam: A+, A, B+, B, C+, C, D, E\n",
        "(ii) Colour of mangoes: yellow, green, orange, red\n",
        "(iii) Height data of a class: [178.9, 179, 179.5, 176, 177.2, 178.3, 175.8,...]\n",
        "(iv) Number of mangoes exported by a farm: [500, 600, 478, 672, ...]"
      ],
      "metadata": {
        "id": "DuHK-9O1Ij8-"
      }
    },
    {
      "cell_type": "markdown",
      "source": [
        "i) qualitative - ordinal\n",
        "ii)qualitative - nominal\n",
        "iii)quantitative -continous\n",
        "iv)quantitative - discrete"
      ],
      "metadata": {
        "id": "tVWlv3G_I-R-"
      }
    },
    {
      "cell_type": "markdown",
      "source": [
        "Q5. Explain the concept of levels of measurement and give an example of a variable for each level."
      ],
      "metadata": {
        "id": "3YSB_BqdJqHP"
      }
    },
    {
      "cell_type": "markdown",
      "source": [
        "it's scale of measurement of data\n",
        "i)nominal data : category groups with no order ex: color(red,blue,green)\n",
        "ii)ordinal data : category groups with order rank ex: grades (A,B,C,D)\n",
        "iii)interval data :uniform values and no zero inclusion ex: temperature (35c-45c)\n",
        "iv)ratio data: the data with zero inclusion ex:marks: 100:50:25:0"
      ],
      "metadata": {
        "id": "L9RLW2PBJshX"
      }
    },
    {
      "cell_type": "markdown",
      "source": [
        "Q6. Why is it important to understand the level of measurement when analyzing data? Provide an\n",
        "example to illustrate your answer."
      ],
      "metadata": {
        "id": "_R1dbQ_4K4_L"
      }
    },
    {
      "cell_type": "markdown",
      "source": [
        "Understanding the level of measurement is crucial when analyzing data because it dictates the appropriate statistical methods, analyses, and interpretations that can be applied to the data. Using an incorrect statistical method based on the level of measurement can lead to misleading results or erroneous conclusions."
      ],
      "metadata": {
        "id": "ZB5xNVH1LyYu"
      }
    },
    {
      "cell_type": "markdown",
      "source": [
        "ex:Suppose you are analyzing data related to customer satisfaction in a survey. The survey asks respondents to rate their experience with a product on a scale of 1 to 5, where 1 indicates very dissatisfied, and 5 represents very satisfied. the statistics measures can be used to ranks"
      ],
      "metadata": {
        "id": "0SlcKJJbL0zl"
      }
    },
    {
      "cell_type": "markdown",
      "source": [
        "Q7. How nominal data type is different from ordinal data type."
      ],
      "metadata": {
        "id": "vU7DvC0jMUAV"
      }
    },
    {
      "cell_type": "markdown",
      "source": [
        "nominal data : it's for categorical specific data and with no inherit order ranking and where as ordinal data as ranking"
      ],
      "metadata": {
        "id": "4Muof3zyMVIh"
      }
    },
    {
      "cell_type": "markdown",
      "source": [
        "Q8. Which type of plot can be used to display data in terms of range?"
      ],
      "metadata": {
        "id": "iStowYAHMsKJ"
      }
    },
    {
      "cell_type": "markdown",
      "source": [
        "box plot is used and it is used statisctical information of median ,inter quartile range , whiskers ,outliers\n"
      ],
      "metadata": {
        "id": "J3vPMLY8M28T"
      }
    },
    {
      "cell_type": "markdown",
      "source": [
        "Q9. Describe the difference between descriptive and inferential statistics. Give an example of each\n",
        "type of statistics and explain how they are used."
      ],
      "metadata": {
        "id": "sgsJ3ONSNPXA"
      }
    },
    {
      "cell_type": "markdown",
      "source": [
        "descriptive is for organizing and summarising data where as inferential is for to measure conclusions of data\n",
        "ex : descriptive : how much members of average of class\n",
        "inferential: is age of half class people is equal to the total class people"
      ],
      "metadata": {
        "id": "au_OiI7LNQ2z"
      }
    },
    {
      "cell_type": "markdown",
      "source": [
        "Q10. What are some common measures of central tendency and variability used in statistics? Explain\n",
        "how each measure can be used to describe a dataset."
      ],
      "metadata": {
        "id": "kW4GZ6n8OGl_"
      }
    },
    {
      "cell_type": "markdown",
      "source": [
        "measure of central tendency\n",
        "i)mean : adding of all values is divided by total no.of values\n",
        "ii)median : sort the dataset and total no.of values of dataset is odd then formula is (n+1)/2 ..if the total no.of values dataset is even then formula is n/2 and (n+1)/2\n",
        "iii)mode :most frequently occur"
      ],
      "metadata": {
        "id": "HW7j91rrOQJ3"
      }
    },
    {
      "cell_type": "markdown",
      "source": [
        "measure of variability:\n",
        "i).Variance: Variance measures the average squared deviation from the mean.\n",
        "ii)Standard Deviation: The standard deviation is the square root of the variance and provides a measure of how much the values deviate from the mean."
      ],
      "metadata": {
        "id": "nuGYCLTDPmm7"
      }
    },
    {
      "cell_type": "code",
      "source": [],
      "metadata": {
        "id": "4O-4EdCpGirp"
      },
      "execution_count": null,
      "outputs": []
    },
    {
      "cell_type": "code",
      "execution_count": null,
      "metadata": {
        "id": "8LmSXLeiDWGs"
      },
      "outputs": [],
      "source": []
    }
  ]
}
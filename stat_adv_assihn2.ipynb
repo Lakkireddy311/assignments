{
  "nbformat": 4,
  "nbformat_minor": 0,
  "metadata": {
    "colab": {
      "provenance": []
    },
    "kernelspec": {
      "name": "python3",
      "display_name": "Python 3"
    },
    "language_info": {
      "name": "python"
    }
  },
  "cells": [
    {
      "cell_type": "markdown",
      "source": [
        "Q1: What are the Probability Mass Function (PMF) and Probability Density Function (PDF)? Explain with\n",
        "an example."
      ],
      "metadata": {
        "id": "eWX1jA2LhOxI"
      }
    },
    {
      "cell_type": "markdown",
      "source": [
        "pmf gives the probability discrete random variable is equal to the specific value\n",
        "example:six sided die i.e p(x=1)=1/6,p(x=2)=1/6,p(x=3)=1/6,p(x=4)=1/6,p(x=5)=1/6,p(x=6)=1/6"
      ],
      "metadata": {
        "id": "gzB444ZFh33a"
      }
    },
    {
      "cell_type": "markdown",
      "source": [
        "pdf provides the probability that value of a continous random variable falls with in a particular range ..\n",
        "example: pdf of a normal distribution (bell curve )represents the likelihood of a value falls with in a range"
      ],
      "metadata": {
        "id": "ZdYCG_zgkCsb"
      }
    },
    {
      "cell_type": "markdown",
      "source": [
        "Q2: What is Cumulative Density Function (CDF)? Explain with an example. Why CDF is used?"
      ],
      "metadata": {
        "id": "KFUcIaY1lBO7"
      }
    },
    {
      "cell_type": "markdown",
      "source": [
        "It describes the probability that a random variable X takes on a value less than or equal to a given value x.....\n",
        "formula is => F(x)=p(X<=x) ..it applies for both discrete and random variable\n",
        "example:fair die cdf is\n",
        "p(x=1)=1/6,p(x=2)=2/6,p(x=3)=3/6,p(x=4)=4/6,p(x=5)=5/6,p(x=6)=6/6\n",
        "used..\n",
        "i)statistical inference\n",
        "ii)understanding probability\n",
        "iii)summarizing data"
      ],
      "metadata": {
        "id": "pt1DRVaYlCdN"
      }
    },
    {
      "cell_type": "markdown",
      "source": [
        "Q3: What are some examples of situations where the normal distribution might be used as a model?\n",
        "Explain how the parameters of the normal distribution relate to the shape of the distribution."
      ],
      "metadata": {
        "id": "qcnrX8O_pcXT"
      }
    },
    {
      "cell_type": "markdown",
      "source": [
        "example:\n",
        "physical measurements,Economic and financial data,error terms in statistical models..\n",
        "parameters of the normal distribution relate to the shape of the distribution.....\n",
        "i)mean=Shifting the mean to the right or left changes the central tendency of the distribution. If the mean increases, the curve shifts to the right, and if the mean decreases, the curve shifts to the left...\n",
        "ii)standard deviation:Changing the standard deviation alters the spread of the distribution."
      ],
      "metadata": {
        "id": "3HmZBUsiqUn5"
      }
    },
    {
      "cell_type": "markdown",
      "source": [
        "Q4: Explain the importance of Normal Distribution. Give a few real-life examples of Normal\n",
        "Distribution."
      ],
      "metadata": {
        "id": "c0oMNaKrrfBR"
      }
    },
    {
      "cell_type": "markdown",
      "source": [
        "importance of normal distribution:\n",
        "i)central limit theorem ,ii)statistical analysis ,iii)predictive modelling\n",
        "real life example:\n",
        "test scores,iQ scores,stock market returns"
      ],
      "metadata": {
        "id": "hNvATWW6rmnh"
      }
    },
    {
      "cell_type": "markdown",
      "source": [
        "Q5: What is Bernaulli Distribution? Give an Example. What is the difference between Bernoulli\n",
        "Distribution and Binomial Distribution?"
      ],
      "metadata": {
        "id": "a-gxzWLZsmgF"
      }
    },
    {
      "cell_type": "markdown",
      "source": [
        "Bernaulli distribution is outcome of single experiment wheather success or failure\n",
        "sucess=p,\n",
        "failure=1-p\n",
        "fair coin example:\n",
        "p(head)=0.5,p(tail)=0.5\n",
        "differences between bernaulli and binomial distribution:\n",
        "i)no.of trails:\n",
        "bernaulli : only two possible outcomes.\n",
        "binomial: number of successes in a fixed number of independent Bernoulli trials.\n",
        "ii)parameters:\n",
        "bernaulli : p(probability of success in single trail)\n",
        "binomial : n(number of trails),p(prob of success)"
      ],
      "metadata": {
        "id": "HCtrTHv8tAen"
      }
    },
    {
      "cell_type": "markdown",
      "source": [
        "Q6. Consider a dataset with a mean of 50 and a standard deviation of 10. If we assume that the dataset\n",
        "is normally distributed, what is the probability that a randomly selected observation will be greater\n",
        "than 60? Use the appropriate formula and show your calculations."
      ],
      "metadata": {
        "id": "7qPwOjWEu_na"
      }
    },
    {
      "cell_type": "markdown",
      "source": [
        "z=(x-mean)/standard deviation,x=60,mean=50,standard deviation=10,\n",
        "z=(60-50)/10;z=10/10=1\n",
        "probability(z>1)=0.1587 is 15.87%"
      ],
      "metadata": {
        "id": "9vAedml9vBSm"
      }
    },
    {
      "cell_type": "markdown",
      "source": [
        "Q7: Explain uniform Distribution with an example."
      ],
      "metadata": {
        "id": "4JgfSg-lylcg"
      }
    },
    {
      "cell_type": "markdown",
      "source": [
        "every individual outcome within a given range is equally likely to occur."
      ],
      "metadata": {
        "id": "a8ikWwuqzLvs"
      }
    },
    {
      "cell_type": "markdown",
      "source": [
        "example:six faced die,fair coin"
      ],
      "metadata": {
        "id": "qLROPrCYzZi1"
      }
    },
    {
      "cell_type": "markdown",
      "source": [
        "Q8: What is the z score? State the importance of the z score."
      ],
      "metadata": {
        "id": "LUlPCAqjzwft"
      }
    },
    {
      "cell_type": "markdown",
      "source": [
        "z score is standard score,\n",
        "z=(x-mean)/standard deviation\n"
      ],
      "metadata": {
        "id": "hoVlpxNi0EFH"
      }
    },
    {
      "cell_type": "markdown",
      "source": [
        "importance:\n",
        "identifying outliers,probability and normal distribution,standard practice in research"
      ],
      "metadata": {
        "id": "b3QusMt_0Qq7"
      }
    },
    {
      "cell_type": "markdown",
      "source": [
        "Q9: What is Central Limit Theorem? State the significance of the Central Limit Theorem."
      ],
      "metadata": {
        "id": "SK5vdRru0p5c"
      }
    },
    {
      "cell_type": "markdown",
      "source": [
        "clt:describes the behavior of the sampling distribution of the sample means when the sample size is sufficiently large, regardless of the shape of the original population distribution."
      ],
      "metadata": {
        "id": "slaYohEr1Le-"
      }
    },
    {
      "cell_type": "markdown",
      "source": [
        "significance:Foundation for parametric tests ,quality control in economics,biology"
      ],
      "metadata": {
        "id": "00uaweBr1ua4"
      }
    },
    {
      "cell_type": "markdown",
      "source": [
        "Q10: State the assumptions of the Central Limit Theorem."
      ],
      "metadata": {
        "id": "87ATxl7X2L14"
      }
    },
    {
      "cell_type": "markdown",
      "source": [
        "these are assumptions of central limit theorem..\n",
        "i)randome sampling,ii)independent events iii)sample size(n>=30) iv)finite variance\n"
      ],
      "metadata": {
        "id": "8tPXaZ2F2Qor"
      }
    },
    {
      "cell_type": "code",
      "execution_count": null,
      "metadata": {
        "id": "9Edle-9Cg2Tj"
      },
      "outputs": [],
      "source": []
    }
  ]
}
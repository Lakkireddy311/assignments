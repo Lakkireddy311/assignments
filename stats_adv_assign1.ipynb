{
  "nbformat": 4,
  "nbformat_minor": 0,
  "metadata": {
    "colab": {
      "provenance": []
    },
    "kernelspec": {
      "name": "python3",
      "display_name": "Python 3"
    },
    "language_info": {
      "name": "python"
    }
  },
  "cells": [
    {
      "cell_type": "markdown",
      "source": [
        "Q1. What is the Probability density function?"
      ],
      "metadata": {
        "id": "5Ag-1_v7DgRk"
      }
    },
    {
      "cell_type": "markdown",
      "source": [
        "probability density function that describes the probability distribution of a continuous random variable within a certain range."
      ],
      "metadata": {
        "id": "VQjIWJozDqyj"
      }
    },
    {
      "cell_type": "markdown",
      "source": [
        "Q2. What are the types of Probability distribution?"
      ],
      "metadata": {
        "id": "0eg__4W5EO4n"
      }
    },
    {
      "cell_type": "markdown",
      "source": [
        "the types of probability distribution is\n",
        "1. Normal/Guassian distribution -follows pdf\n",
        "2.Bernoulli distribution\n",
        "3.uniform distribution\n",
        "4.Log normal distribution(pdf)\n",
        "5.poission distribution(pmf)\n",
        "6.power law distribution(pdf)\n",
        "7.binomial distribution(pmf)\n"
      ],
      "metadata": {
        "id": "5TqnktJVEmaP"
      }
    },
    {
      "cell_type": "markdown",
      "source": [
        "1.)Normal/Gaussian Distribution: It's described by its mean and standard deviation, forming a bell-shaped curve. Many natural phenomena, such as height, test scores, errors, etc., often follow this distribution."
      ],
      "metadata": {
        "id": "bvbcZbJyHHmX"
      }
    },
    {
      "cell_type": "markdown",
      "source": [
        "2.)Bernoulli Distribution: It represents a random variable that can take on one of two possible outcomes, typically coded as 0 and 1. It's often used in situations involving success/failure, yes/no, or heads/tails scenarios."
      ],
      "metadata": {
        "id": "BhJOAWBaHK7e"
      }
    },
    {
      "cell_type": "markdown",
      "source": [
        "3.)Uniform Distribution: This distribution assigns equal probability to all outcomes in a given range, making all values equally likely."
      ],
      "metadata": {
        "id": "ae-1Hj3NHTpj"
      }
    },
    {
      "cell_type": "markdown",
      "source": [
        "4.)Lognormal Distribution: This distribution arises when the logarithm of a variable follows a normal distribution. It's often used to model data that is skewed and varies multiplicatively."
      ],
      "metadata": {
        "id": "GGST8JZSHZb4"
      }
    },
    {
      "cell_type": "markdown",
      "source": [
        "5.)Poisson Distribution: It represents the number of events that occur in a fixed interval of time or space, given a known constant rate of occurrence and independence between events."
      ],
      "metadata": {
        "id": "odq14UyvHgQc"
      }
    },
    {
      "cell_type": "markdown",
      "source": [
        "6.)Power Law Distribution: It describes a relationship between two quantities, where one quantity varies as a power of another"
      ],
      "metadata": {
        "id": "WOqphS2IHqb-"
      }
    },
    {
      "cell_type": "markdown",
      "source": [
        "7.)Binomial Distribution: This distribution describes the number of successes in a fixed number of independent Bernoulli trials, where each trial has the same probability of success."
      ],
      "metadata": {
        "id": "GcuPLHRwHw0R"
      }
    },
    {
      "cell_type": "markdown",
      "source": [
        "Q3. Write a Python function to calculate the probability density function of a normal distribution with\n",
        "given mean and standard deviation at a given point."
      ],
      "metadata": {
        "id": "FzbTb_JqL-hn"
      }
    },
    {
      "cell_type": "markdown",
      "source": [
        "probability density function of a normal distribution is"
      ],
      "metadata": {
        "id": "UNbdRGMXM4uL"
      }
    },
    {
      "cell_type": "code",
      "execution_count": 8,
      "metadata": {
        "id": "AkjNmyHFDKVo",
        "colab": {
          "base_uri": "https://localhost:8080/"
        },
        "outputId": "25f376e4-4af6-40da-cd09-9a3b18cf3e1d"
      },
      "outputs": [
        {
          "output_type": "execute_result",
          "data": {
            "text/plain": [
              "0.12951759566589174"
            ]
          },
          "metadata": {},
          "execution_count": 8
        }
      ],
      "source": [
        "import math\n",
        "def prob_dens_fun(x,mean,std_dev):\n",
        "  coeff=1/(std_dev*math.sqrt(2*math.pi))\n",
        "  exp_term=math.exp(-((x-mean)**2)/(2*std_dev**2))\n",
        "  pdf=coeff*exp_term\n",
        "  return pdf\n",
        "mean=0\n",
        "std_dev=1\n",
        "x=1.5\n",
        "prob_dens_fun(x,mean,std_dev)"
      ]
    },
    {
      "cell_type": "markdown",
      "source": [
        "Q4. What are the properties of Binomial distribution? Give two examples of events where binomial\n",
        "distribution can be applied."
      ],
      "metadata": {
        "id": "PND0YYDyPXYh"
      }
    },
    {
      "cell_type": "markdown",
      "source": [
        "properties:\n",
        "i)fixed no.of trails and each trail is independent,\n",
        "ii)two possible outcomes((s or F )(1 or 0),\n",
        "iii)discrete distribution and constant probability\n",
        "example\n",
        "i)coin flipping,\n",
        "ii)medication of drug,cricket match test (win or success)\n"
      ],
      "metadata": {
        "id": "lW6aDLb0QW5I"
      }
    },
    {
      "cell_type": "markdown",
      "source": [
        "Q5. Generate a random sample of size 1000 from a binomial distribution with probability of success 0.4\n",
        "and plot a histogram of the results using matplotlib."
      ],
      "metadata": {
        "id": "X-7x05G2UXoH"
      }
    },
    {
      "cell_type": "code",
      "source": [
        "import numpy as np\n",
        "import matplotlib.pyplot as plt\n",
        "sample_size=1000\n",
        "prob_success=0.4\n",
        "gen_random_sample=np.random.binomial(n=1,p=prob_success,size=sample_size)\n",
        "plt.hist(gen_random_sample,bins=3,color='skyblue')\n",
        "plt.title(\"random sample using binomial distribution\")\n",
        "plt.xlabel('outcomes')\n",
        "plt.ylabel('Frequency')\n",
        "plt.xticks([0,1],['Failure','Success'])\n",
        "plt.show()"
      ],
      "metadata": {
        "colab": {
          "base_uri": "https://localhost:8080/",
          "height": 472
        },
        "id": "1gTt28VAUM74",
        "outputId": "ed50adc8-91a0-4220-bdb5-fede4476f382"
      },
      "execution_count": 9,
      "outputs": [
        {
          "output_type": "display_data",
          "data": {
            "text/plain": [
              "<Figure size 640x480 with 1 Axes>"
            ],
            "image/png": "[encoded data removed]"
          },
          "metadata": {}
        }
      ]
    },
    {
      "cell_type": "markdown",
      "source": [
        "Q6. Write a Python function to calculate the cumulative distribution function of a Poisson distribution\n",
        "with given mean at a given point."
      ],
      "metadata": {
        "id": "-DRfFGKbUMXu"
      }
    },
    {
      "cell_type": "code",
      "source": [
        "import math\n",
        "def poisson_distr(x,mean):\n",
        "  cdf=0\n",
        "  for i in range(x+1):\n",
        "    cdf+=math.exp(-mean)*(mean**i)/math.factorial(i)\n",
        "  return cdf\n",
        "mean=3\n",
        "point=4\n",
        "cdf_point=poisson_distr(point,mean)\n",
        "print(f\"The cumilative distribution function at {point} is:{cdf_point}\")\n"
      ],
      "metadata": {
        "colab": {
          "base_uri": "https://localhost:8080/"
        },
        "id": "HQTaH5LfjNaa",
        "outputId": "444e906d-2416-405d-e34b-04f3478e5b8f"
      },
      "execution_count": 10,
      "outputs": [
        {
          "output_type": "stream",
          "name": "stdout",
          "text": [
            "The cumilative distribution function at 4 is:0.8152632445237721\n"
          ]
        }
      ]
    },
    {
      "cell_type": "markdown",
      "source": [
        "Q7. How Binomial distribution different from Poisson distribution?"
      ],
      "metadata": {
        "id": "CyRNW2Kzk7xn"
      }
    },
    {
      "cell_type": "markdown",
      "source": [
        "i)number of trails:\n",
        "binomial distribution=fixed no.of n independent trails.........,\n",
        "poission distribution=it deals with no.of events that occur in fixed interval of time\n",
        "ii)outcomes:...\n",
        "Binomial distribution= In each trial, there are two possible outcomes (success or failure)...,\n",
        "Poisson Distribution= It represents the count of events occurring in a continuous interval without specifying success/failure."
      ],
      "metadata": {
        "id": "TASjJ6EjlXO6"
      }
    },
    {
      "cell_type": "markdown",
      "source": [],
      "metadata": {
        "id": "nluyRPRsRxSU"
      }
    },
    {
      "cell_type": "markdown",
      "source": [
        "Q8. Generate a random sample of size 1000 from a Poisson distribution with mean 5 and calculate the\n",
        "sample mean and variance."
      ],
      "metadata": {
        "id": "4VCPSfu84-WB"
      }
    },
    {
      "cell_type": "code",
      "source": [
        "import numpy as np\n",
        "sample_size=1000\n",
        "mean=5\n",
        "random_sample=np.random.poisson(mean,sample_size)\n",
        "sample_mean=np.mean(random_sample)\n",
        "sample_variance=np.var(random_sample)\n",
        "print(f\"sample mean is {sample_mean}\")\n",
        "print(f\"sample variance is {sample_variance}\")"
      ],
      "metadata": {
        "id": "jhooTRtzPJXP",
        "colab": {
          "base_uri": "https://localhost:8080/"
        },
        "outputId": "5251e89e-0e73-40b0-dab1-9f768a85a0c8"
      },
      "execution_count": 11,
      "outputs": [
        {
          "output_type": "stream",
          "name": "stdout",
          "text": [
            "sample mean is 5.039\n",
            "sample variance is 4.437479\n"
          ]
        }
      ]
    },
    {
      "cell_type": "markdown",
      "source": [
        "Q9. How mean and variance are related in Binomial distribution and Poisson distribution?"
      ],
      "metadata": {
        "id": "bvePnatrAT3U"
      }
    },
    {
      "cell_type": "markdown",
      "source": [
        "In both Binomial and Poisson distributions, the mean (expected value) and variance are closely related, but they have different formulas and relationships due to their distinct characteristics.\n",
        "\n"
      ],
      "metadata": {
        "id": "9D1PoqQ5Am0i"
      }
    },
    {
      "cell_type": "markdown",
      "source": [
        "binomial :\n",
        "mean=np , n=no.of trails,p=probability of success....\n",
        "variance=np(1-p)"
      ],
      "metadata": {
        "id": "EnEFZoJ8As2F"
      }
    },
    {
      "cell_type": "markdown",
      "source": [
        " Poisson distribution, the mean and variance are both equal to the parameter 'λ' (lambda), which represents the average rate of events in a given interval."
      ],
      "metadata": {
        "id": "-oUK_o7LBbVt"
      }
    },
    {
      "cell_type": "markdown",
      "source": [
        "Q10. In normal distribution with respect to mean position, where does the least frequent data appear?"
      ],
      "metadata": {
        "id": "HgHhr1NVDpz5"
      }
    },
    {
      "cell_type": "markdown",
      "source": [
        "The least frequent data points in a normal distribution are located in the extreme tails, i.e., the values that are farthest from the mean in both directions. As you move further away from the mean in either the positive or negative direction along the x-axis, the frequency of occurrences decreases."
      ],
      "metadata": {
        "id": "4EGOzfkRCs3l"
      }
    }
  ]
}
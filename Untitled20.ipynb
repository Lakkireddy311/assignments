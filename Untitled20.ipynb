{
  "nbformat": 4,
  "nbformat_minor": 0,
  "metadata": {
    "colab": {
      "provenance": [],
      "authorship_tag": "ABX9TyMt11yttFeBHXzutnVVq2XP",
      "include_colab_link": true
    },
    "kernelspec": {
      "name": "python3",
      "display_name": "Python 3"
    },
    "language_info": {
      "name": "python"
    }
  },
  "cells": [
    {
      "cell_type": "markdown",
      "metadata": {
        "id": "view-in-github",
        "colab_type": "text"
      },
      "source": [
        "<a href=\"https://colab.research.google.com/github/Lakkireddy311/assignments/blob/main/Untitled20.ipynb\" target=\"_parent\"><img src=\"https://colab.research.google.com/assets/colab-badge.svg\" alt=\"Open In Colab\"/></a>"
      ]
    },
    {
      "cell_type": "markdown",
      "source": [
        "Q1. What is a database? Differentiate between SQL and NoSQL databases."
      ],
      "metadata": {
        "id": "VxdNKYaKVqTr"
      }
    },
    {
      "cell_type": "markdown",
      "source": [
        "A1. A database is a structured collection of data that is organized in a way that makes it easy to manage, access, and update. SQL (Structured Query Language) and NoSQL (Not Only SQL) are two types of database management systems:\n",
        "\n",
        "SQL databases: SQL databases are relational databases that use a structured schema and SQL for querying and manipulating data. They are known for their strong consistency, ACID compliance, and ability to handle complex queries involving multiple tables. Examples include MySQL, PostgreSQL, and Oracle.\n",
        "\n",
        "NoSQL databases: NoSQL databases are non-relational databases that use a flexible schema and various data models like document, key-value, graph, or column-family. They are designed for scalability, high availability, and handling large volumes of unstructured or semi-structured data. Examples include MongoDB, Cassandra, and Redis."
      ],
      "metadata": {
        "id": "ZKf4YvgdVrdW"
      }
    },
    {
      "cell_type": "markdown",
      "source": [
        "Q2. What is DDL? Explain why CREATE, DROP, ALTER, and TRUNCATE are used with an example."
      ],
      "metadata": {
        "id": "x7t5pJjoV1kM"
      }
    },
    {
      "cell_type": "markdown",
      "source": [
        "A2. DDL (Data Definition Language) is a subset of SQL used to define, modify, and delete database objects such as tables, indexes, and views. Here's how these commands are used:"
      ],
      "metadata": {
        "id": "XdcHeZvLV9bA"
      }
    },
    {
      "cell_type": "markdown",
      "source": [
        "CREATE: Used to create new database objects."
      ],
      "metadata": {
        "id": "fA7keo2UWCEo"
      }
    },
    {
      "cell_type": "markdown",
      "source": [
        "CREATE TABLE employees (\n",
        "    id INT PRIMARY KEY,\n",
        "    name VARCHAR(50),\n",
        "    age INT\n",
        ");\n",
        "\n",
        "\n",
        "\n",
        "\n"
      ],
      "metadata": {
        "id": "A_AwLZ6VWUyw"
      }
    },
    {
      "cell_type": "markdown",
      "source": [
        "DROP: Used to delete existing database objects.\n",
        "syntax=DROP TABLE employees;"
      ],
      "metadata": {
        "id": "sgqMZzAiWnNT"
      }
    },
    {
      "cell_type": "markdown",
      "source": [
        "ALTER: Used to modify the structure of existing database objects.\n",
        "syntax=ALTER TABLE employees ADD COLUMN salary DECIMAL(10, 2);"
      ],
      "metadata": {
        "id": "h8fK6bomWuLT"
      }
    },
    {
      "cell_type": "markdown",
      "source": [
        "TRUNCATE: Used to remove all rows from a table without deleting the table itself.\n",
        "syntax=TRUNCATE TABLE employees;"
      ],
      "metadata": {
        "id": "sw_SNhJUW44Q"
      }
    },
    {
      "cell_type": "markdown",
      "source": [
        "Q3. What is DML? Explain INSERT, UPDATE, and DELETE with an example."
      ],
      "metadata": {
        "id": "DY6V4cWLZdsa"
      }
    },
    {
      "cell_type": "markdown",
      "source": [
        "A3. DML (Data Manipulation Language) is a subset of SQL used to manipulate data within database objects. Here are examples of DML commands:"
      ],
      "metadata": {
        "id": "d1qFvHlTZfbx"
      }
    },
    {
      "cell_type": "markdown",
      "source": [
        "INSERT: Used to add new records to a table. Syntax: INSERT INTO employees (id, name, age) VALUES (1, 'John', 30);\n"
      ],
      "metadata": {
        "id": "J2iN0d6iZkMe"
      }
    },
    {
      "cell_type": "markdown",
      "source": [
        "UPDATE: Used to modify existing records in a table. UPDATE employees SET age = 31 WHERE id = 1;\n"
      ],
      "metadata": {
        "id": "r2ZHYOsNbRsk"
      }
    },
    {
      "cell_type": "markdown",
      "source": [
        "DELETE: Used to remove records from a table.  DELETE FROM employees WHERE id = 1;\n"
      ],
      "metadata": {
        "id": "TQDrnB-VbaJf"
      }
    },
    {
      "cell_type": "markdown",
      "source": [
        "Q4. What is DQL? Explain SELECT with an example."
      ],
      "metadata": {
        "id": "Naxhs7b7brEI"
      }
    },
    {
      "cell_type": "markdown",
      "source": [
        "A4. DQL (Data Query Language) is a subset of SQL used to retrieve data from database objects. The most common DQL command is SELECT:"
      ],
      "metadata": {
        "id": "XFNcj8aVb6pO"
      }
    },
    {
      "cell_type": "markdown",
      "source": [
        "SELECT: Used to retrieve data from one or more tables.\n",
        "SELECT * FROM employees;\n"
      ],
      "metadata": {
        "id": "kGQghJ19cAxr"
      }
    },
    {
      "cell_type": "markdown",
      "source": [
        "Q5. Explain Primary Key and Foreign Key."
      ],
      "metadata": {
        "id": "tIPW_XCAcEVC"
      }
    },
    {
      "cell_type": "markdown",
      "source": [
        "Primary Key: A primary key is a column or a set of columns that uniquely identifies each row in a table. It enforces entity integrity and ensures that each row in the table is unique. Example:"
      ],
      "metadata": {
        "id": "mmCvCQ4PcXi4"
      }
    },
    {
      "cell_type": "markdown",
      "source": [
        "CREATE TABLE employees (\n",
        "    id INT PRIMARY KEY,\n",
        "    name VARCHAR(50),\n",
        "    age INT\n",
        ");\n"
      ],
      "metadata": {
        "id": "0AK7T_z6cc1M"
      }
    },
    {
      "cell_type": "markdown",
      "source": [
        "Foreign Key: A foreign key is a column or a set of columns that establishes a link between data in two tables. It enforces referential integrity and ensures that the values in the foreign key column(s) match the values in the primary key column(s) of another table. Example"
      ],
      "metadata": {
        "id": "hIO42hG5cf5y"
      }
    },
    {
      "cell_type": "markdown",
      "source": [
        "CREATE TABLE departments (\n",
        "    id INT PRIMARY KEY,\n",
        "    name VARCHAR(50)\n",
        ");\n",
        "\n",
        "CREATE TABLE employees (\n",
        "    id INT PRIMARY KEY,\n",
        "    name VARCHAR(50),\n",
        "    department_id INT,\n",
        "    FOREIGN KEY (department_id) REFERENCES departments(id)\n",
        ");\n"
      ],
      "metadata": {
        "id": "Wt8F4P0jcodU"
      }
    },
    {
      "cell_type": "markdown",
      "source": [
        "Q6. Write a Python code to connect MySQL to Python. Explain the cursor() and execute() method."
      ],
      "metadata": {
        "id": "cwtfJyDmctSK"
      }
    },
    {
      "cell_type": "code",
      "source": [
        "import mysql.connector\n",
        "\n",
        "# Connect to MySQL\n",
        "connection = mysql.connector.connect(\n",
        "    host=\"localhost\",\n",
        "    user=\"username\",\n",
        "    password=\"password\",\n",
        "    database=\"database_name\"\n",
        ")\n",
        "\n",
        "# Create a cursor object\n",
        "cursor = connection.cursor()\n",
        "\n",
        "# Execute SQL query\n",
        "cursor.execute(\"SELECT * FROM employees\")\n",
        "\n",
        "# Fetch results\n",
        "results = cursor.fetchall()\n",
        "for row in results:\n",
        "    print(row)\n",
        "\n",
        "# Close cursor and connection\n",
        "cursor.close()\n",
        "connection.close()\n"
      ],
      "metadata": {
        "id": "WThuVFAaWUFJ"
      },
      "execution_count": null,
      "outputs": []
    },
    {
      "cell_type": "markdown",
      "source": [
        "cursor(): The cursor() method creates a cursor object that allows you to execute SQL queries.\n",
        "execute(): The execute() method is used to execute SQL queries. It takes an SQL query as its argument."
      ],
      "metadata": {
        "id": "CwSPPLqbc9PE"
      }
    },
    {
      "cell_type": "code",
      "source": [],
      "metadata": {
        "id": "V_FG67YGdKis"
      },
      "execution_count": null,
      "outputs": []
    },
    {
      "cell_type": "markdown",
      "source": [
        "Q7. Give the order of execution of SQL clauses in an SQL query."
      ],
      "metadata": {
        "id": "WSYisHdDdA6o"
      }
    },
    {
      "cell_type": "markdown",
      "source": [
        "A7. The order of execution of SQL clauses in an SQL query is as follows:\n",
        "\n",
        "FROM\n",
        "WHERE\n",
        "GROUP BY\n",
        "HAVING\n",
        "SELECT\n",
        "ORDER BY\n",
        "\n",
        "\n",
        "\n",
        "\n",
        "\n"
      ],
      "metadata": {
        "id": "PdfoDufXdHmw"
      }
    },
    {
      "cell_type": "code",
      "source": [],
      "metadata": {
        "id": "RwuqW7hSWG3f"
      },
      "execution_count": null,
      "outputs": []
    }
  ]
}
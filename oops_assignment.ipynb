{
  "nbformat": 4,
  "nbformat_minor": 0,
  "metadata": {
    "colab": {
      "provenance": []
    },
    "kernelspec": {
      "name": "python3",
      "display_name": "Python 3"
    },
    "language_info": {
      "name": "python"
    }
  },
  "cells": [
    {
      "cell_type": "markdown",
      "source": [
        "Q1. Explain Class and Object with respect to Object-Oriented Programming. Give a suitable example.\n",
        "\n",
        "class = A class is a blueprint or template for creating objects.\n",
        "object=An object is an instance of a class,and it has a behaviour"
      ],
      "metadata": {
        "id": "CO6_LhdOdX7h"
      }
    },
    {
      "cell_type": "code",
      "source": [
        "class ai_cls:\n",
        "    def __init__(self, roll_no, name, hod):\n",
        "        self.roll_no = roll_no\n",
        "        self.name = name\n",
        "        self.hod = hod\n",
        "\n",
        "    def my_details(self):\n",
        "        return \"My name is {name}, my roll number is {roll_no}, and my HOD name is {hod}\".format(\n",
        "            name=self.name, roll_no=self.roll_no, hod=self.hod)\n"
      ],
      "metadata": {
        "id": "3nwtyDM1heep"
      },
      "execution_count": 17,
      "outputs": []
    },
    {
      "cell_type": "code",
      "source": [
        "obj=ai_cls(3146,\"shivani\",\"suman prakash\")"
      ],
      "metadata": {
        "id": "nDcJxpMJeStr"
      },
      "execution_count": 18,
      "outputs": []
    },
    {
      "cell_type": "code",
      "source": [
        "obj.roll_no"
      ],
      "metadata": {
        "colab": {
          "base_uri": "https://localhost:8080/"
        },
        "id": "q8DnOoXNfPpt",
        "outputId": "1bc6ae6e-bcc1-44cb-9646-f92418b4c78c"
      },
      "execution_count": 19,
      "outputs": [
        {
          "output_type": "execute_result",
          "data": {
            "text/plain": [
              "3146"
            ]
          },
          "metadata": {},
          "execution_count": 19
        }
      ]
    },
    {
      "cell_type": "code",
      "source": [
        "obj.name"
      ],
      "metadata": {
        "colab": {
          "base_uri": "https://localhost:8080/",
          "height": 35
        },
        "id": "ZLPTWln4fTPx",
        "outputId": "6cd3ae18-4a39-4665-b8cf-4545b13b9cdd"
      },
      "execution_count": 20,
      "outputs": [
        {
          "output_type": "execute_result",
          "data": {
            "text/plain": [
              "'shivani'"
            ],
            "application/vnd.google.colaboratory.intrinsic+json": {
              "type": "string"
            }
          },
          "metadata": {},
          "execution_count": 20
        }
      ]
    },
    {
      "cell_type": "code",
      "source": [
        "obj.hod"
      ],
      "metadata": {
        "colab": {
          "base_uri": "https://localhost:8080/",
          "height": 35
        },
        "id": "rhdnNP6WfUUT",
        "outputId": "43e00969-6991-435a-9eff-b6ac91166f9c"
      },
      "execution_count": 21,
      "outputs": [
        {
          "output_type": "execute_result",
          "data": {
            "text/plain": [
              "'suman prakash'"
            ],
            "application/vnd.google.colaboratory.intrinsic+json": {
              "type": "string"
            }
          },
          "metadata": {},
          "execution_count": 21
        }
      ]
    },
    {
      "cell_type": "code",
      "source": [
        "obj.my_details"
      ],
      "metadata": {
        "colab": {
          "base_uri": "https://localhost:8080/"
        },
        "id": "tO7XAT4RfZZk",
        "outputId": "60416104-83c2-4a9b-b7e1-71ac1913959b"
      },
      "execution_count": 22,
      "outputs": [
        {
          "output_type": "execute_result",
          "data": {
            "text/plain": [
              "<bound method ai_cls.my_details of <__main__.ai_cls object at 0x7ec731a85210>>"
            ]
          },
          "metadata": {},
          "execution_count": 22
        }
      ]
    },
    {
      "cell_type": "code",
      "source": [
        "print(obj.my_details())"
      ],
      "metadata": {
        "colab": {
          "base_uri": "https://localhost:8080/"
        },
        "id": "3f5yTaZtfb_c",
        "outputId": "bcd05033-4a00-4c1f-cedb-b4af9a0f398e"
      },
      "execution_count": 23,
      "outputs": [
        {
          "output_type": "stream",
          "name": "stdout",
          "text": [
            "My name is shivani, my roll number is 3146, and my HOD name is suman prakash\n"
          ]
        }
      ]
    },
    {
      "cell_type": "markdown",
      "source": [
        "Q2. Name the four pillars of OOPs."
      ],
      "metadata": {
        "id": "zrEk--Vkhvxz"
      }
    },
    {
      "cell_type": "markdown",
      "source": [
        "1.polymorphism =allows objects of different classes to be treated as objects of a common superclass"
      ],
      "metadata": {
        "id": "_rMdW2M5jF3p"
      }
    },
    {
      "cell_type": "code",
      "source": [
        "class animal:\n",
        "  def speak(self):\n",
        "    pass\n",
        "class cat(animal):\n",
        "  def speak(self):\n",
        "    return \"meow meow\"\n",
        "class dog(animal):\n",
        "  def speak(self):\n",
        "    return \"bow bow\"\n"
      ],
      "metadata": {
        "id": "5p6G3jEPjJ09"
      },
      "execution_count": 24,
      "outputs": []
    },
    {
      "cell_type": "code",
      "source": [
        "cat1=cat()\n",
        "dog1=dog()"
      ],
      "metadata": {
        "id": "-TEYZJINjyFy"
      },
      "execution_count": 25,
      "outputs": []
    },
    {
      "cell_type": "code",
      "source": [
        "cat1.speak()"
      ],
      "metadata": {
        "colab": {
          "base_uri": "https://localhost:8080/",
          "height": 35
        },
        "id": "MvVGlF6tj6VP",
        "outputId": "f120ed2e-4550-44d4-f89c-1936bd46c9e8"
      },
      "execution_count": 26,
      "outputs": [
        {
          "output_type": "execute_result",
          "data": {
            "text/plain": [
              "'meow meow'"
            ],
            "application/vnd.google.colaboratory.intrinsic+json": {
              "type": "string"
            }
          },
          "metadata": {},
          "execution_count": 26
        }
      ]
    },
    {
      "cell_type": "code",
      "source": [
        "dog1.speak()"
      ],
      "metadata": {
        "colab": {
          "base_uri": "https://localhost:8080/",
          "height": 35
        },
        "id": "EWWY4Ci6j9PP",
        "outputId": "25054db4-d619-4cd6-eb8d-0518a7170f37"
      },
      "execution_count": 27,
      "outputs": [
        {
          "output_type": "execute_result",
          "data": {
            "text/plain": [
              "'bow bow'"
            ],
            "application/vnd.google.colaboratory.intrinsic+json": {
              "type": "string"
            }
          },
          "metadata": {},
          "execution_count": 27
        }
      ]
    },
    {
      "cell_type": "markdown",
      "source": [
        "2.Encapsulation :it has a bundles of attributes and methods that operates on the single unit of a class"
      ],
      "metadata": {
        "id": "C7o5h62IzBlR"
      }
    },
    {
      "cell_type": "code",
      "source": [
        "class bank_acc:\n",
        "  def __init__(self,balance):\n",
        "    self.__balance=balance\n",
        "  def deposit(self,amount):\n",
        "    self.__balance=self.__balance+amount\n",
        "  def withdraw(self,amount):\n",
        "    if self.__balance>=amount:\n",
        "      self.__balance=self.__balance-amount\n",
        "      print(self.__balance)\n",
        "    else:\n",
        "      print(\"invalid amount\")\n",
        "  def getbalance(self):\n",
        "    return self.__balance\n"
      ],
      "metadata": {
        "id": "8rj46YBlkA_4"
      },
      "execution_count": 28,
      "outputs": []
    },
    {
      "cell_type": "code",
      "source": [
        "obj=bank_acc(1053)"
      ],
      "metadata": {
        "id": "CpK9Ma301Uwg"
      },
      "execution_count": 29,
      "outputs": []
    },
    {
      "cell_type": "code",
      "source": [
        "obj.deposit(100)"
      ],
      "metadata": {
        "id": "CXvHDNrD1em2"
      },
      "execution_count": 30,
      "outputs": []
    },
    {
      "cell_type": "code",
      "source": [
        "obj.getbalance()"
      ],
      "metadata": {
        "colab": {
          "base_uri": "https://localhost:8080/"
        },
        "id": "Dpc8lHgD1l8N",
        "outputId": "5fbfddb7-0d4b-42a1-8020-83787d0a97ca"
      },
      "execution_count": 31,
      "outputs": [
        {
          "output_type": "execute_result",
          "data": {
            "text/plain": [
              "1153"
            ]
          },
          "metadata": {},
          "execution_count": 31
        }
      ]
    },
    {
      "cell_type": "code",
      "source": [
        "obj.withdraw(595)"
      ],
      "metadata": {
        "colab": {
          "base_uri": "https://localhost:8080/"
        },
        "id": "Ia5cobef1puG",
        "outputId": "f3298dbd-7901-4fee-af77-d74ba744de9c"
      },
      "execution_count": 32,
      "outputs": [
        {
          "output_type": "stream",
          "name": "stdout",
          "text": [
            "558\n"
          ]
        }
      ]
    },
    {
      "cell_type": "code",
      "source": [
        "obj.withdraw(2000)"
      ],
      "metadata": {
        "colab": {
          "base_uri": "https://localhost:8080/"
        },
        "id": "PD9S2FJK1yQ7",
        "outputId": "68a3b351-31d9-4064-c534-d77e11905d63"
      },
      "execution_count": 33,
      "outputs": [
        {
          "output_type": "stream",
          "name": "stdout",
          "text": [
            "invalid amount\n"
          ]
        }
      ]
    },
    {
      "cell_type": "code",
      "source": [
        "obj.getbalance()"
      ],
      "metadata": {
        "colab": {
          "base_uri": "https://localhost:8080/"
        },
        "id": "As5aoXCB11iw",
        "outputId": "f4829344-a464-482c-fb70-289ae617db55"
      },
      "execution_count": 34,
      "outputs": [
        {
          "output_type": "execute_result",
          "data": {
            "text/plain": [
              "558"
            ]
          },
          "metadata": {},
          "execution_count": 34
        }
      ]
    },
    {
      "cell_type": "markdown",
      "source": [
        "3.Inheritance : child class extracts features from parent class"
      ],
      "metadata": {
        "id": "oDi5-7k12BEE"
      }
    },
    {
      "cell_type": "code",
      "source": [
        "class mirror:\n",
        "  def type(self):\n",
        "    print(\"i'm concave\")\n",
        "class mirror2(mirror):\n",
        "  def type1(self):\n",
        "    print(\"i'm convex\")\n",
        "class mirror3(mirror2):\n",
        "  def type2(self):\n",
        "    print(\"i'm mixed\")\n",
        "\n"
      ],
      "metadata": {
        "id": "AAlWDFMV14R_"
      },
      "execution_count": 44,
      "outputs": []
    },
    {
      "cell_type": "code",
      "source": [
        "obj=mirror3()"
      ],
      "metadata": {
        "id": "zBrKJA-u3BQe"
      },
      "execution_count": 36,
      "outputs": []
    },
    {
      "cell_type": "code",
      "source": [
        "obj.type()"
      ],
      "metadata": {
        "colab": {
          "base_uri": "https://localhost:8080/"
        },
        "id": "MVmN2w6v3Kpw",
        "outputId": "d600c55d-13f4-4039-b7e2-05cfe9454dd1"
      },
      "execution_count": 40,
      "outputs": [
        {
          "output_type": "stream",
          "name": "stdout",
          "text": [
            "i'm concave\n"
          ]
        }
      ]
    },
    {
      "cell_type": "code",
      "source": [
        "obj.type1()"
      ],
      "metadata": {
        "colab": {
          "base_uri": "https://localhost:8080/"
        },
        "id": "EGPHYtl43NEt",
        "outputId": "f19a93b2-cb11-458e-9e71-728500a1bd05"
      },
      "execution_count": 42,
      "outputs": [
        {
          "output_type": "stream",
          "name": "stdout",
          "text": [
            "i'm convex\n"
          ]
        }
      ]
    },
    {
      "cell_type": "code",
      "source": [
        "obj.type2()"
      ],
      "metadata": {
        "colab": {
          "base_uri": "https://localhost:8080/"
        },
        "id": "vf17jxSC3dch",
        "outputId": "d9eb21f0-2cf2-4929-a277-3c8b8eaaf66d"
      },
      "execution_count": 46,
      "outputs": [
        {
          "output_type": "stream",
          "name": "stdout",
          "text": [
            "i'm mixed\n"
          ]
        }
      ]
    },
    {
      "cell_type": "markdown",
      "source": [
        "4.Abstraction:creating abstract classes or interfaces that define a blueprint for derived (child) classes."
      ],
      "metadata": {
        "id": "EYmV1-ka3yd4"
      }
    },
    {
      "cell_type": "code",
      "source": [
        "import abc\n",
        "class krish_naik_youtube_channel:\n",
        "  @abc.abstractmethod\n",
        "  def subscription(self):\n",
        "    pass\n",
        "  @abc.abstractmethod\n",
        "  def details(self):\n",
        "    pass\n",
        "  @abc.abstractmethod\n",
        "  def assignment(self):\n",
        "    pass\n"
      ],
      "metadata": {
        "id": "dkAyWwSP3fp2"
      },
      "execution_count": 48,
      "outputs": []
    },
    {
      "cell_type": "code",
      "source": [
        "class statisctics(krish_naik_youtube_channel):\n",
        "  def assignment(self):\n",
        "    return \"after lesson , he assign assignments\"\n",
        "  def details(self):\n",
        "    return \"krish has a excellent talent in statistics \""
      ],
      "metadata": {
        "id": "rhARsA8i5uYP"
      },
      "execution_count": 51,
      "outputs": []
    },
    {
      "cell_type": "code",
      "source": [
        "class datascientist(krish_naik_youtube_channel):\n",
        "  def assignment(self):\n",
        "    return \"assignments are good ideas\"\n",
        "  def details(self):\n",
        "    return \"shivani inspiration is krish naik\""
      ],
      "metadata": {
        "id": "s8diQ4G16XEm"
      },
      "execution_count": 50,
      "outputs": []
    },
    {
      "cell_type": "code",
      "source": [
        "obj=statisctics()\n",
        "obj.details()"
      ],
      "metadata": {
        "colab": {
          "base_uri": "https://localhost:8080/",
          "height": 35
        },
        "id": "zlHwN35Z6ySv",
        "outputId": "a94c80b9-0f63-4a34-f275-7e4a46804b44"
      },
      "execution_count": 52,
      "outputs": [
        {
          "output_type": "execute_result",
          "data": {
            "text/plain": [
              "'krish has a excellent talent in statistics '"
            ],
            "application/vnd.google.colaboratory.intrinsic+json": {
              "type": "string"
            }
          },
          "metadata": {},
          "execution_count": 52
        }
      ]
    },
    {
      "cell_type": "code",
      "source": [
        "obj1=datascientist()\n",
        "obj1.details()"
      ],
      "metadata": {
        "colab": {
          "base_uri": "https://localhost:8080/",
          "height": 35
        },
        "id": "aKi7jk8v7D0M",
        "outputId": "cc88be4d-f96d-4c78-be09-4bda3128fa8b"
      },
      "execution_count": 53,
      "outputs": [
        {
          "output_type": "execute_result",
          "data": {
            "text/plain": [
              "'shivani inspiration is krish naik'"
            ],
            "application/vnd.google.colaboratory.intrinsic+json": {
              "type": "string"
            }
          },
          "metadata": {},
          "execution_count": 53
        }
      ]
    },
    {
      "cell_type": "markdown",
      "source": [
        "Q3. Explain why the __init__() function is used. Give a suitable example."
      ],
      "metadata": {
        "id": "ajCrO-bc7RAu"
      }
    },
    {
      "cell_type": "code",
      "source": [
        "#init function used as a constructor\n",
        "class pwskills():\n",
        "  def __init__(self,phone_num,email):\n",
        "    self.phone_num=phone_num\n",
        "    self.email=email\n",
        "  def datascience(self):\n",
        "    return f\"they used {self.phone_num} for subscription and {self.email} for my account\""
      ],
      "metadata": {
        "id": "0_bdauHW7PAb"
      },
      "execution_count": 54,
      "outputs": []
    },
    {
      "cell_type": "code",
      "source": [
        "obj=pwskills(123456789,\"abc@gmail.com\")\n",
        "print(obj.datascience())"
      ],
      "metadata": {
        "colab": {
          "base_uri": "https://localhost:8080/"
        },
        "id": "3-mky8qp8FIj",
        "outputId": "4524b97a-782c-4009-b17d-d780b2a937b6"
      },
      "execution_count": 56,
      "outputs": [
        {
          "output_type": "stream",
          "name": "stdout",
          "text": [
            "they used 123456789 for subscription and abc@gmail.com for my account\n"
          ]
        }
      ]
    },
    {
      "cell_type": "markdown",
      "source": [
        "Q4. Why self is used in OOPs?"
      ],
      "metadata": {
        "id": "KxK-9p0_8_IP"
      }
    },
    {
      "cell_type": "markdown",
      "source": [
        "self=self is accessing,calling for object attributes and distinguising instance data and also support multiple instances"
      ],
      "metadata": {
        "id": "zyvsNUIL9CaB"
      }
    },
    {
      "cell_type": "code",
      "source": [
        "class Person:\n",
        "    def __init__(self, name, age):\n",
        "        self.name = name\n",
        "        self.age = age\n",
        "\n",
        "    def introduce(self):\n",
        "        print(f\"Hello, my name is {self.name} and I am {self.age} years old.\")\n",
        "\n",
        "\n"
      ],
      "metadata": {
        "id": "_8R-QnPK8Y3Z"
      },
      "execution_count": 57,
      "outputs": []
    },
    {
      "cell_type": "code",
      "source": [
        "intro=Person(\"shivvu\",18)"
      ],
      "metadata": {
        "id": "4VU26DKL9l4q"
      },
      "execution_count": 61,
      "outputs": []
    },
    {
      "cell_type": "code",
      "source": [
        "print(intro.introduce())"
      ],
      "metadata": {
        "colab": {
          "base_uri": "https://localhost:8080/"
        },
        "id": "d9B-Rvw09v_q",
        "outputId": "f3593719-3e06-4038-f7cc-c903aec106c8"
      },
      "execution_count": 63,
      "outputs": [
        {
          "output_type": "stream",
          "name": "stdout",
          "text": [
            "Hello, my name is shivvu and I am 18 years old.\n",
            "None\n"
          ]
        }
      ]
    },
    {
      "cell_type": "markdown",
      "source": [
        "Q5. What is inheritance? Give an example for each type of inheritance."
      ],
      "metadata": {
        "id": "aaEbteHF-MFL"
      }
    },
    {
      "cell_type": "markdown",
      "source": [
        "Inheritance=. It allows you to create a new class (called a subclass or derived class) by inheriting attributes and methods from an existing class (called a superclass or base class)."
      ],
      "metadata": {
        "id": "uNlWZfa_-Xbv"
      }
    },
    {
      "cell_type": "code",
      "source": [
        "#single level inheritance\n",
        "class Animal:\n",
        "    def speak(self):\n",
        "        pass\n",
        "\n",
        "class Dog(Animal):\n",
        "    def speak(self):\n",
        "        return \"Woof!\"\n",
        "\n",
        "\n",
        "dog = Dog()\n",
        "print(dog.speak())\n"
      ],
      "metadata": {
        "colab": {
          "base_uri": "https://localhost:8080/"
        },
        "id": "bmS67FZ9971t",
        "outputId": "af66efe5-9c44-4169-b8bf-6a6162692736"
      },
      "execution_count": 64,
      "outputs": [
        {
          "output_type": "stream",
          "name": "stdout",
          "text": [
            "Woof!\n"
          ]
        }
      ]
    },
    {
      "cell_type": "code",
      "source": [
        "#multiple level inheritance\n",
        "class datascience:\n",
        "  def type(self):\n",
        "    return \"for data scientist\"\n",
        "class webdev:\n",
        "  def type2(self):\n",
        "    return \"for front end\"\n",
        "class pwskills(datascience,webdev):\n",
        "  def member(self):\n",
        "    return \"pw member\""
      ],
      "metadata": {
        "id": "F5mEUpTE-l-P"
      },
      "execution_count": 66,
      "outputs": []
    },
    {
      "cell_type": "code",
      "source": [
        "shivvu=pwskills()"
      ],
      "metadata": {
        "id": "nRQLL7Zz_cNT"
      },
      "execution_count": 67,
      "outputs": []
    },
    {
      "cell_type": "code",
      "source": [
        "shivvu.member()"
      ],
      "metadata": {
        "colab": {
          "base_uri": "https://localhost:8080/",
          "height": 35
        },
        "id": "FjSeaI0B_2us",
        "outputId": "3da32f75-1d4b-4536-a5f6-b301707acb75"
      },
      "execution_count": 68,
      "outputs": [
        {
          "output_type": "execute_result",
          "data": {
            "text/plain": [
              "'pw member'"
            ],
            "application/vnd.google.colaboratory.intrinsic+json": {
              "type": "string"
            }
          },
          "metadata": {},
          "execution_count": 68
        }
      ]
    },
    {
      "cell_type": "code",
      "source": [
        "shivvu.type2()"
      ],
      "metadata": {
        "colab": {
          "base_uri": "https://localhost:8080/",
          "height": 35
        },
        "id": "Z3_hcdhd_4tO",
        "outputId": "a5fb16bf-0c7d-4997-898f-5f7a9214e4e9"
      },
      "execution_count": 69,
      "outputs": [
        {
          "output_type": "execute_result",
          "data": {
            "text/plain": [
              "'for front end'"
            ],
            "application/vnd.google.colaboratory.intrinsic+json": {
              "type": "string"
            }
          },
          "metadata": {},
          "execution_count": 69
        }
      ]
    },
    {
      "cell_type": "code",
      "source": [
        "shivvu.type()"
      ],
      "metadata": {
        "colab": {
          "base_uri": "https://localhost:8080/",
          "height": 35
        },
        "id": "wGXxpNGA_73e",
        "outputId": "a919c7c4-b346-4deb-f645-df6187d37428"
      },
      "execution_count": 70,
      "outputs": [
        {
          "output_type": "execute_result",
          "data": {
            "text/plain": [
              "'for data scientist'"
            ],
            "application/vnd.google.colaboratory.intrinsic+json": {
              "type": "string"
            }
          },
          "metadata": {},
          "execution_count": 70
        }
      ]
    },
    {
      "cell_type": "code",
      "source": [],
      "metadata": {
        "id": "tZrR4JM2__Dy"
      },
      "execution_count": null,
      "outputs": []
    }
  ]
}
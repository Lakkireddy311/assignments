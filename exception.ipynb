{
  "nbformat": 4,
  "nbformat_minor": 0,
  "metadata": {
    "colab": {
      "provenance": []
    },
    "kernelspec": {
      "name": "python3",
      "display_name": "Python 3"
    },
    "language_info": {
      "name": "python"
    }
  },
  "cells": [
    {
      "cell_type": "markdown",
      "source": [
        "Q1.what is exception in python?write differences between exceptions and syntax errors\n"
      ],
      "metadata": {
        "id": "Altz4hy2ka78"
      }
    },
    {
      "cell_type": "markdown",
      "source": [
        " exception is an event or condition that occurs during the execution of a program that disrupts the normal flow of the program."
      ],
      "metadata": {
        "id": "rcxquhx8ku-p"
      }
    },
    {
      "cell_type": "markdown",
      "source": [
        "differences:\n",
        "1. i.exception: Exceptions occur at runtime when your program is executing.\n",
        "ii.Syntax errors:occur at the compile or parse stage of your code, before it even begins execution."
      ],
      "metadata": {
        "id": "QFyha_JGk8tD"
      }
    },
    {
      "cell_type": "markdown",
      "source": [
        "Q2.what happens when an exception is not handled ?explain with an example\n"
      ],
      "metadata": {
        "id": "Hprz_R2-lb8_"
      }
    },
    {
      "cell_type": "code",
      "execution_count": 1,
      "metadata": {
        "id": "Vcn-rAPokaGa",
        "colab": {
          "base_uri": "https://localhost:8080/"
        },
        "outputId": "e9996e0c-b77a-4644-bf08-c286f53785bf"
      },
      "outputs": [
        {
          "output_type": "stream",
          "name": "stdout",
          "text": [
            "Division by zero is not allowed.\n"
          ]
        }
      ],
      "source": [
        "def divide(a, b):\n",
        "    result = a / b\n",
        "    return result\n",
        "\n",
        "try:\n",
        "    x = divide(10, 0)  # Attempt to divide by zero\n",
        "    print(\"Result:\", x)\n",
        "except ZeroDivisionError:\n",
        "    print(\"Division by zero is not allowed.\")\n"
      ]
    },
    {
      "cell_type": "markdown",
      "source": [
        " exception was not handled within the divide function, so it propagated up to the try block in the main part of the code. Since there is no except block specifically handling ZeroDivisionError"
      ],
      "metadata": {
        "id": "J4kQOh36mIt0"
      }
    },
    {
      "cell_type": "markdown",
      "source": [
        "Q3.write python statements are used to catch and handle exceptions?Explain with an examples\n"
      ],
      "metadata": {
        "id": "76FARhhJmjME"
      }
    },
    {
      "cell_type": "code",
      "source": [
        "def divide(a,b):\n",
        "  try:\n",
        "    result=a/b\n",
        "    print(result)\n",
        "  except ZeroDivisionError as e:\n",
        "    print(\"Error\",e)\n",
        "    return None\n",
        "result=divide(10,0)\n",
        "if result is not None:\n",
        "  print(result)\n",
        "else:\n",
        "  print(\"division by zero was caught and handled\")"
      ],
      "metadata": {
        "id": "DtKTRR9TmFE1",
        "colab": {
          "base_uri": "https://localhost:8080/"
        },
        "outputId": "1052bb59-3dfa-4b2b-e147-eda50fb2bc8f"
      },
      "execution_count": 2,
      "outputs": [
        {
          "output_type": "stream",
          "name": "stdout",
          "text": [
            "Error division by zero\n",
            "division by zero was caught and handled\n"
          ]
        }
      ]
    },
    {
      "cell_type": "markdown",
      "source": [
        "Q4.Explain with an example\n",
        "a.try and else\n",
        "b.finally\n",
        "c.raise"
      ],
      "metadata": {
        "id": "5QbeT1hnoK9d"
      }
    },
    {
      "cell_type": "code",
      "source": [
        "try:\n",
        "  num=int(input(\"enter a num\"))\n",
        "except ValueError as e:\n",
        "  print(\"invalid input\")\n",
        "else:\n",
        "  print(\"you entered \",num)"
      ],
      "metadata": {
        "id": "CBVW9FPAn7Rf",
        "colab": {
          "base_uri": "https://localhost:8080/"
        },
        "outputId": "9c446c01-5076-44e2-d168-a887f8012444"
      },
      "execution_count": 3,
      "outputs": [
        {
          "output_type": "stream",
          "name": "stdout",
          "text": [
            "enter a numabc\n",
            "invalid input\n"
          ]
        }
      ]
    },
    {
      "cell_type": "code",
      "source": [
        "try:\n",
        "  file=open(\"pwd.txt\",\"r\")\n",
        "  content=file.read()\n",
        "except FileNotFoundError as e:\n",
        "  print(\"file not found\")\n",
        "else:\n",
        "  print(\"file content\",content)\n",
        "finally:\n",
        "  file.close()"
      ],
      "metadata": {
        "id": "qBnMFwX5pAKc",
        "colab": {
          "base_uri": "https://localhost:8080/"
        },
        "outputId": "3b8d67ae-a324-448b-bfde-f048b13b851d"
      },
      "execution_count": 7,
      "outputs": [
        {
          "output_type": "stream",
          "name": "stdout",
          "text": [
            "file content b+rW4K9oz=LU\n"
          ]
        }
      ]
    },
    {
      "cell_type": "code",
      "source": [
        "class CustomError(Exception):\n",
        "  pass\n",
        "try:\n",
        "  age=int(input(\"enter a number\"))\n",
        "  if age<0:\n",
        "    raise CustomError(\"Age can't be negative\")\n",
        "except CustomError as e:\n",
        "  print(\"custom error \",ce )\n",
        "except ValueError:\n",
        "  print(\"invalid input\")\n"
      ],
      "metadata": {
        "id": "oaQhbfuep-1i",
        "colab": {
          "base_uri": "https://localhost:8080/",
          "height": 437
        },
        "outputId": "6eb6ded5-1ddd-4fca-99e3-00db13ffa256"
      },
      "execution_count": 8,
      "outputs": [
        {
          "name": "stdout",
          "output_type": "stream",
          "text": [
            "enter a number  -10\n"
          ]
        },
        {
          "output_type": "error",
          "ename": "NameError",
          "evalue": "ignored",
          "traceback": [
            "\u001b[0;31m---------------------------------------------------------------------------\u001b[0m",
            "\u001b[0;31mCustomError\u001b[0m                               Traceback (most recent call last)",
            "\u001b[0;32m<ipython-input-8-ed3cf0651a3f>\u001b[0m in \u001b[0;36m<cell line: 3>\u001b[0;34m()\u001b[0m\n\u001b[1;32m      5\u001b[0m   \u001b[0;32mif\u001b[0m \u001b[0mage\u001b[0m\u001b[0;34m<\u001b[0m\u001b[0;36m0\u001b[0m\u001b[0;34m:\u001b[0m\u001b[0;34m\u001b[0m\u001b[0;34m\u001b[0m\u001b[0m\n\u001b[0;32m----> 6\u001b[0;31m     \u001b[0;32mraise\u001b[0m \u001b[0mCustomError\u001b[0m\u001b[0;34m(\u001b[0m\u001b[0;34m\"Age can't be negative\"\u001b[0m\u001b[0;34m)\u001b[0m\u001b[0;34m\u001b[0m\u001b[0;34m\u001b[0m\u001b[0m\n\u001b[0m\u001b[1;32m      7\u001b[0m \u001b[0;32mexcept\u001b[0m \u001b[0mCustomError\u001b[0m \u001b[0;32mas\u001b[0m \u001b[0me\u001b[0m\u001b[0;34m:\u001b[0m\u001b[0;34m\u001b[0m\u001b[0;34m\u001b[0m\u001b[0m\n",
            "\u001b[0;31mCustomError\u001b[0m: Age can't be negative",
            "\nDuring handling of the above exception, another exception occurred:\n",
            "\u001b[0;31mNameError\u001b[0m                                 Traceback (most recent call last)",
            "\u001b[0;32m<ipython-input-8-ed3cf0651a3f>\u001b[0m in \u001b[0;36m<cell line: 3>\u001b[0;34m()\u001b[0m\n\u001b[1;32m      6\u001b[0m     \u001b[0;32mraise\u001b[0m \u001b[0mCustomError\u001b[0m\u001b[0;34m(\u001b[0m\u001b[0;34m\"Age can't be negative\"\u001b[0m\u001b[0;34m)\u001b[0m\u001b[0;34m\u001b[0m\u001b[0;34m\u001b[0m\u001b[0m\n\u001b[1;32m      7\u001b[0m \u001b[0;32mexcept\u001b[0m \u001b[0mCustomError\u001b[0m \u001b[0;32mas\u001b[0m \u001b[0me\u001b[0m\u001b[0;34m:\u001b[0m\u001b[0;34m\u001b[0m\u001b[0;34m\u001b[0m\u001b[0m\n\u001b[0;32m----> 8\u001b[0;31m   \u001b[0mprint\u001b[0m\u001b[0;34m(\u001b[0m\u001b[0;34m\"custom error \"\u001b[0m\u001b[0;34m,\u001b[0m\u001b[0mce\u001b[0m \u001b[0;34m)\u001b[0m\u001b[0;34m\u001b[0m\u001b[0;34m\u001b[0m\u001b[0m\n\u001b[0m\u001b[1;32m      9\u001b[0m \u001b[0;32mexcept\u001b[0m \u001b[0mValueError\u001b[0m\u001b[0;34m:\u001b[0m\u001b[0;34m\u001b[0m\u001b[0;34m\u001b[0m\u001b[0m\n\u001b[1;32m     10\u001b[0m   \u001b[0mprint\u001b[0m\u001b[0;34m(\u001b[0m\u001b[0;34m\"invalid input\"\u001b[0m\u001b[0;34m)\u001b[0m\u001b[0;34m\u001b[0m\u001b[0;34m\u001b[0m\u001b[0m\n",
            "\u001b[0;31mNameError\u001b[0m: name 'ce' is not defined"
          ]
        }
      ]
    },
    {
      "cell_type": "markdown",
      "source": [
        "Q5.What are custom exception?why do we need custom exception?Explain with an example"
      ],
      "metadata": {
        "id": "FuXu-Jn1GQIL"
      }
    },
    {
      "cell_type": "markdown",
      "source": [
        "custom exception is also unknown as user defined exception and to handle specific situations or errors that are not adequately addressed by the built-in exceptions provided by Python."
      ],
      "metadata": {
        "id": "reR73FdUuksm"
      }
    },
    {
      "cell_type": "markdown",
      "source": [
        "improve code clarity\n",
        "handling specific exceptions\n"
      ],
      "metadata": {
        "id": "hhB94PnhG2pI"
      }
    },
    {
      "cell_type": "code",
      "source": [
        "class invalidinputError(Exception):\n",
        "  def __init__(self,input_value):\n",
        "    super().__init__(f\"invalid input: {input_value}\")\n",
        "def divide(a,b):\n",
        "  if (b==0):\n",
        "    raise invalidinputError(\"Division by error is not allowed\")\n",
        "  return a/b\n",
        "try:\n",
        "  result=divide(10,0)\n",
        "except invalidinputError as e:\n",
        "  print(\"error:\",e)\n",
        "else:\n",
        "  print(\"result\",result)\n",
        "\n"
      ],
      "metadata": {
        "id": "2PFeqGugra7R",
        "colab": {
          "base_uri": "https://localhost:8080/"
        },
        "outputId": "6aae8c7a-d02e-4f51-c749-5728cf6c96c2"
      },
      "execution_count": 10,
      "outputs": [
        {
          "output_type": "stream",
          "name": "stdout",
          "text": [
            "error: invalid input: Division by error is not allowed\n"
          ]
        }
      ]
    },
    {
      "cell_type": "markdown",
      "source": [
        "Q6.create custom exception?and use this case to handle an exception?\n"
      ],
      "metadata": {
        "id": "Jb0xlE0oJU4X"
      }
    },
    {
      "cell_type": "code",
      "source": [
        "class NegativeValueError(Exception):\n",
        "  def __init__(self,value_name,value):\n",
        "    super().__init__(f\"{value_name} can't be neagtive {value}\")\n",
        "def process_value(value):\n",
        "  if value<0:\n",
        "    raise NegativeValueError(\"value\",value)\n",
        "  return value\n",
        "try:\n",
        "  result=process_value(-18)\n",
        "except NegativeValueError as e:\n",
        "  print(\"error:\",e)\n",
        "else:\n",
        "  print(\"result\",result)"
      ],
      "metadata": {
        "colab": {
          "base_uri": "https://localhost:8080/"
        },
        "id": "Byv7nPTAIj1E",
        "outputId": "e1957887-b2c7-4ac8-fc08-ad21471248eb"
      },
      "execution_count": 12,
      "outputs": [
        {
          "output_type": "stream",
          "name": "stdout",
          "text": [
            "error: value can't be neagtive -18\n"
          ]
        }
      ]
    },
    {
      "cell_type": "code",
      "source": [],
      "metadata": {
        "id": "CgEXgkP7K3au"
      },
      "execution_count": null,
      "outputs": []
    }
  ]
}
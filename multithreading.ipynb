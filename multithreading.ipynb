{
  "nbformat": 4,
  "nbformat_minor": 0,
  "metadata": {
    "colab": {
      "provenance": []
    },
    "kernelspec": {
      "name": "python3",
      "display_name": "Python 3"
    },
    "language_info": {
      "name": "python"
    }
  },
  "cells": [
    {
      "cell_type": "markdown",
      "source": [
        "Q1). what is multithreading in python? why is it used? Name the module used to handle threads in python"
      ],
      "metadata": {
        "id": "aSqglWR64WQk"
      }
    },
    {
      "cell_type": "markdown",
      "source": [
        "why used?\n",
        "1.Parallel Execution\n",
        "2.concurrency\n"
      ],
      "metadata": {
        "id": "qbt-zejs44Rg"
      }
    },
    {
      "cell_type": "markdown",
      "source": [
        "multithreading  to run multiple threads concurrently."
      ],
      "metadata": {
        "id": "9r1cPGp-4Tc7"
      }
    },
    {
      "cell_type": "code",
      "execution_count": 2,
      "metadata": {
        "id": "MJYKQMtf3_23"
      },
      "outputs": [],
      "source": [
        "#module_name\n",
        "import threading"
      ]
    },
    {
      "cell_type": "markdown",
      "source": [
        "Q2.Why threading module used? Write the use of the following functions\n",
        "activeCount()\n",
        " currentThread()\n",
        " enumerate()"
      ],
      "metadata": {
        "id": "yZPaSOOL5GdO"
      }
    },
    {
      "cell_type": "markdown",
      "source": [],
      "metadata": {
        "id": "duPJZ0hz7llB"
      }
    },
    {
      "cell_type": "markdown",
      "source": [
        "1.activeCount()=tell how many threads are in active\n"
      ],
      "metadata": {
        "id": "ldOUpDTJ7nwm"
      }
    },
    {
      "cell_type": "code",
      "source": [
        "def thread_func(num):\n",
        "  print(\"it's my %d experience in threading\"%num)"
      ],
      "metadata": {
        "id": "llrJbtI44xvo"
      },
      "execution_count": 10,
      "outputs": []
    },
    {
      "cell_type": "code",
      "source": [
        "thred=[threading.Thread(target=thread_func,args=(i,)) for i in [1,2,3]]"
      ],
      "metadata": {
        "id": "--peuYmG6TjY"
      },
      "execution_count": 11,
      "outputs": []
    },
    {
      "cell_type": "code",
      "source": [
        "for t in thred:\n",
        "  t.start()"
      ],
      "metadata": {
        "colab": {
          "base_uri": "https://localhost:8080/"
        },
        "id": "ubK0IZ1Z7B6x",
        "outputId": "709a38fa-9b14-4aa6-d3b9-923a76dc280c"
      },
      "execution_count": 12,
      "outputs": [
        {
          "output_type": "stream",
          "name": "stdout",
          "text": [
            "it's my 1 experience in threading\n",
            "it's my 2 experience in threading\n",
            "it's my 3 experience in threading\n"
          ]
        }
      ]
    },
    {
      "cell_type": "code",
      "source": [
        "active_count=threading.activeCount()\n"
      ],
      "metadata": {
        "colab": {
          "base_uri": "https://localhost:8080/"
        },
        "id": "7bTG-erm7QRV",
        "outputId": "16b5c249-84a3-4e37-b49b-b56b049b172a"
      },
      "execution_count": 17,
      "outputs": [
        {
          "output_type": "stream",
          "name": "stderr",
          "text": [
            "<ipython-input-17-15cbe8694d67>:1: DeprecationWarning: activeCount() is deprecated, use active_count() instead\n",
            "  active_count=threading.activeCount()\n"
          ]
        }
      ]
    },
    {
      "cell_type": "code",
      "source": [
        "print(f\"{active_count} is the number of active threads\")"
      ],
      "metadata": {
        "colab": {
          "base_uri": "https://localhost:8080/"
        },
        "id": "VXoeDZy98yAi",
        "outputId": "8bab9a7c-169d-402f-9ae9-8ba69316586f"
      },
      "execution_count": 18,
      "outputs": [
        {
          "output_type": "stream",
          "name": "stdout",
          "text": [
            "5 is the number of active threads\n"
          ]
        }
      ]
    },
    {
      "cell_type": "markdown",
      "source": [
        "2.currentThread():it tell about present thread"
      ],
      "metadata": {
        "id": "ibIr2CAB8YWk"
      }
    },
    {
      "cell_type": "code",
      "source": [
        "current_thread=threading.currentThread()\n"
      ],
      "metadata": {
        "colab": {
          "base_uri": "https://localhost:8080/"
        },
        "id": "a_oG9cFG7zvG",
        "outputId": "633d9e51-aada-467c-b75c-be361e134299"
      },
      "execution_count": 19,
      "outputs": [
        {
          "output_type": "stream",
          "name": "stderr",
          "text": [
            "<ipython-input-19-7f752549f7ab>:1: DeprecationWarning: currentThread() is deprecated, use current_thread() instead\n",
            "  current_thread=threading.currentThread()\n"
          ]
        }
      ]
    },
    {
      "cell_type": "code",
      "source": [
        "print(f\"{current_thread} is my current thread\")"
      ],
      "metadata": {
        "colab": {
          "base_uri": "https://localhost:8080/"
        },
        "id": "ayqRQg4n8sjT",
        "outputId": "5036a122-ec2d-40b6-d14a-19c5b1441154"
      },
      "execution_count": 20,
      "outputs": [
        {
          "output_type": "stream",
          "name": "stdout",
          "text": [
            "<_MainThread(MainThread, started 137331308625920)> is my current thread\n"
          ]
        }
      ]
    },
    {
      "cell_type": "code",
      "source": [
        "print(f\"{current_thread.getName()} is my current thread\")"
      ],
      "metadata": {
        "colab": {
          "base_uri": "https://localhost:8080/"
        },
        "id": "DjEoKC0T9DVG",
        "outputId": "f266c597-4976-49bf-94a3-4955c8d1b496"
      },
      "execution_count": 21,
      "outputs": [
        {
          "output_type": "stream",
          "name": "stdout",
          "text": [
            "MainThread is my current thread\n"
          ]
        },
        {
          "output_type": "stream",
          "name": "stderr",
          "text": [
            "<ipython-input-21-7c52ade1a678>:1: DeprecationWarning: getName() is deprecated, get the name attribute instead\n",
            "  print(f\"{current_thread.getName()} is my current thread\")\n"
          ]
        }
      ]
    },
    {
      "cell_type": "markdown",
      "source": [
        "3.enemurate=list all active threads"
      ],
      "metadata": {
        "id": "GHRxxK5V9WDZ"
      }
    },
    {
      "cell_type": "code",
      "source": [
        "enumerate_thread=threading.enumerate()\n",
        "print(f\"{enumerate_thread} is my thread list\")"
      ],
      "metadata": {
        "colab": {
          "base_uri": "https://localhost:8080/"
        },
        "id": "Bf92E4i89M1h",
        "outputId": "6ce18a16-de98-454c-b4e0-f13312988287"
      },
      "execution_count": 25,
      "outputs": [
        {
          "output_type": "stream",
          "name": "stdout",
          "text": [
            "[<_MainThread(MainThread, started 137331308625920)>, <Thread(Thread-2 (_thread_main), started daemon 137331147380288)>, <Heartbeat(Thread-3, started daemon 137331138987584)>, <ParentPollerUnix(Thread-1, started daemon 137330890892864)>, <Thread(_colab_inspector_thread, started daemon 137330430043712)>] is my thread list\n"
          ]
        }
      ]
    },
    {
      "cell_type": "markdown",
      "source": [
        "Q3. Explain the following functions\n",
        " i.run()\n",
        " ii.start()\n",
        " iii.join()\n",
        " iv.isAlive()"
      ],
      "metadata": {
        "id": "rrIrraXR-P-r"
      }
    },
    {
      "cell_type": "markdown",
      "source": [
        "i.run()=when we call the start method .it internally call the run method\n",
        "  ,\n",
        "ii.start()=it is used the execution of a thread   ,    \n",
        "iii.join()=waiting for a thread to complete before performing further operations.   ,\n",
        "iv.isAlive()=check if current thread is active or not"
      ],
      "metadata": {
        "id": "s-XPAoNB-sX3"
      }
    },
    {
      "cell_type": "code",
      "source": [
        "thred1=[threading.Thread(target=thread_func,args=(i,)) for i in range(5)]"
      ],
      "metadata": {
        "id": "ZC7AZLs49ow7"
      },
      "execution_count": 27,
      "outputs": []
    },
    {
      "cell_type": "code",
      "source": [
        "for t in thred1:\n",
        "  t.join()\n"
      ],
      "metadata": {
        "id": "_Hp5D-kDAXvQ"
      },
      "execution_count": 35,
      "outputs": []
    },
    {
      "cell_type": "code",
      "source": [
        "import time\n",
        "def my_func():\n",
        "  time.sleep(2)\n",
        "  print(\"my thread is running\")"
      ],
      "metadata": {
        "id": "BUFdVQ0tAj1I"
      },
      "execution_count": 36,
      "outputs": []
    },
    {
      "cell_type": "code",
      "source": [
        "thread3=threading.Thread(target=my_func)"
      ],
      "metadata": {
        "id": "vNkak8ySBWqg"
      },
      "execution_count": 42,
      "outputs": []
    },
    {
      "cell_type": "code",
      "source": [
        "thread3.start()"
      ],
      "metadata": {
        "id": "U1g85UAgBhWL"
      },
      "execution_count": 43,
      "outputs": []
    },
    {
      "cell_type": "code",
      "source": [
        "thread3.join()"
      ],
      "metadata": {
        "id": "NUiPg4bBBj-N"
      },
      "execution_count": 44,
      "outputs": []
    },
    {
      "cell_type": "code",
      "source": [
        "if thread3.is_alive():\n",
        "  print(\"heehe ..my thred3 is alive\")\n",
        "else:\n",
        "  print(\"your thred3 is passed away..haha\")"
      ],
      "metadata": {
        "colab": {
          "base_uri": "https://localhost:8080/"
        },
        "id": "0z9hoo4JBpbe",
        "outputId": "aafd0182-6eac-4512-f974-9abea25e3d6b"
      },
      "execution_count": 47,
      "outputs": [
        {
          "output_type": "stream",
          "name": "stdout",
          "text": [
            "your thred3 is passed away..haha\n"
          ]
        }
      ]
    },
    {
      "cell_type": "markdown",
      "source": [
        "Q4. write a python program to create two threads. Thread one must print the list of squares and thread\n",
        "two must print the list of cubes"
      ],
      "metadata": {
        "id": "ECjad2deCw10"
      }
    },
    {
      "cell_type": "code",
      "source": [
        "def my_sq(num):\n",
        "  print(\"sqaured number is\",num*num)\n",
        "def my_cube(num1):\n",
        "  print(\"the cube number is\",num1*num1*num1)\n"
      ],
      "metadata": {
        "id": "veR0hLvUCDdD"
      },
      "execution_count": 48,
      "outputs": []
    },
    {
      "cell_type": "code",
      "source": [
        "thread1=[threading.Thread(target=my_sq,args=(i,)) for i in [1,2,3]]\n",
        "thread2=[threading.Thread(target=my_cube,args=(j,)) for j in [1,2,3]]"
      ],
      "metadata": {
        "id": "Q3xwwrCKFrGW"
      },
      "execution_count": 51,
      "outputs": []
    },
    {
      "cell_type": "code",
      "source": [
        "for t in thread1:\n",
        "  t.start()"
      ],
      "metadata": {
        "colab": {
          "base_uri": "https://localhost:8080/"
        },
        "id": "-VIp5jSgGMxl",
        "outputId": "56d92dee-b649-456c-870c-5c49f9621fe3"
      },
      "execution_count": 52,
      "outputs": [
        {
          "output_type": "stream",
          "name": "stdout",
          "text": [
            "sqaured number is 1\n",
            "sqaured number is 4\n",
            "sqaured number is 9\n"
          ]
        }
      ]
    },
    {
      "cell_type": "code",
      "source": [
        "for t1 in thread2:\n",
        "  t1.start()"
      ],
      "metadata": {
        "colab": {
          "base_uri": "https://localhost:8080/"
        },
        "id": "J5nl0ylTGeki",
        "outputId": "ce2fb36e-e0a1-482c-a53a-347ff2827eba"
      },
      "execution_count": 53,
      "outputs": [
        {
          "output_type": "stream",
          "name": "stdout",
          "text": [
            "the cube number is 1\n",
            "the cube number is 8\n",
            "the cube number is 27\n"
          ]
        }
      ]
    },
    {
      "cell_type": "markdown",
      "source": [
        "Q5. State advantages and disadvantages of multithreading"
      ],
      "metadata": {
        "id": "zYG_saNcHbm5"
      }
    },
    {
      "cell_type": "markdown",
      "source": [
        "advantages:\n",
        "1.Efficient i/o handling\n",
        "2.parallelism\n",
        "3.responsiveness"
      ],
      "metadata": {
        "id": "6HrYKkEsHqnz"
      }
    },
    {
      "cell_type": "markdown",
      "source": [
        "diadvantages:\n",
        "1.dead lock\n",
        "2.race conditions\n",
        "3.complexity\n"
      ],
      "metadata": {
        "id": "pVGAP_QxIFIO"
      }
    },
    {
      "cell_type": "markdown",
      "source": [
        "Q6.Explain deadlocks and race conditions."
      ],
      "metadata": {
        "id": "k5FzrvZVIg8x"
      }
    },
    {
      "cell_type": "markdown",
      "source": [
        "A deadlock is a situation where two or more threads or processes are unable to proceed because each is waiting for the other to release a resource"
      ],
      "metadata": {
        "id": "m62qSq5DIi7T"
      }
    },
    {
      "cell_type": "markdown",
      "source": [
        "1.mutual exclusion\n",
        "2.hold and wait\n",
        "3.circular wait"
      ],
      "metadata": {
        "id": "iKzBYw_dI1hZ"
      }
    },
    {
      "cell_type": "markdown",
      "source": [
        "A race condition occurs when two or more threads or processes access shared data or resources concurrently, and the final outcome depends on the relative timing of their execution."
      ],
      "metadata": {
        "id": "t5-ZdiwHJkBP"
      }
    },
    {
      "cell_type": "markdown",
      "source": [
        "1.data resource\n",
        "2.lack of synchronisation\n"
      ],
      "metadata": {
        "id": "TB5KnXgMJmTS"
      }
    },
    {
      "cell_type": "code",
      "source": [],
      "metadata": {
        "id": "l_n-mY5wG_0x"
      },
      "execution_count": null,
      "outputs": []
    }
  ]
}
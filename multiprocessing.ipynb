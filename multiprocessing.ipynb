{
  "nbformat": 4,
  "nbformat_minor": 0,
  "metadata": {
    "colab": {
      "provenance": [],
      "authorship_tag": "ABX9TyMUsXo52JAvWCldXU+3/3xC",
      "include_colab_link": true
    },
    "kernelspec": {
      "name": "python3",
      "display_name": "Python 3"
    },
    "language_info": {
      "name": "python"
    }
  },
  "cells": [
    {
      "cell_type": "markdown",
      "metadata": {
        "id": "view-in-github",
        "colab_type": "text"
      },
      "source": [
        "<a href=\"https://colab.research.google.com/github/Lakkireddy311/assignments/blob/main/multiprocessing.ipynb\" target=\"_parent\"><img src=\"https://colab.research.google.com/assets/colab-badge.svg\" alt=\"Open In Colab\"/></a>"
      ]
    },
    {
      "cell_type": "markdown",
      "source": [
        "Q1. What is multiprocessing in Python? Why is it useful?"
      ],
      "metadata": {
        "id": "8YQHSxPvG32q"
      }
    },
    {
      "cell_type": "markdown",
      "source": [
        "A1. Multiprocessing in Python refers to the ability of the Python interpreter to run multiple processes simultaneously. It is useful for parallelizing tasks and utilizing multiple CPU cores efficiently, which can lead to improved performance and faster execution of CPU-bound tasks."
      ],
      "metadata": {
        "id": "miHfW-S6G5m_"
      }
    },
    {
      "cell_type": "markdown",
      "source": [
        "Q2. What are the differences between multiprocessing and multithreading?"
      ],
      "metadata": {
        "id": "c1B_nTJpHAHw"
      }
    },
    {
      "cell_type": "markdown",
      "source": [
        "A2. The main differences between multiprocessing and multithreading in Python are:\n",
        "\n",
        "Multiprocessing involves running multiple processes simultaneously, each with its own memory space, while multithreading involves running multiple threads within a single process, sharing the same memory space.\n",
        "Multiprocessing is more suitable for CPU-bound tasks that can benefit from parallel execution across multiple CPU cores, whereas multithreading is more suitable for I/O-bound tasks that involve waiting for external resources.\n",
        "Multiprocessing has better support for parallel execution on multi-core systems and avoids the Global Interpreter Lock (GIL) limitation in CPython, whereas multithreading is subject to the GIL and may not achieve true parallelism in CPU-bound tasks."
      ],
      "metadata": {
        "id": "ELuB8h0yHAny"
      }
    },
    {
      "cell_type": "markdown",
      "source": [
        "Q3. Write a Python code to create a process using the multiprocessing module."
      ],
      "metadata": {
        "id": "npI8ySGNHPu6"
      }
    },
    {
      "cell_type": "code",
      "source": [
        "import multiprocessing\n",
        "\n",
        "def worker():\n",
        "    print(\"Worker process\")\n",
        "\n",
        "if __name__ == \"__main__\":\n",
        "    p = multiprocessing.Process(target=worker)\n",
        "    p.start()\n",
        "    p.join()\n"
      ],
      "metadata": {
        "colab": {
          "base_uri": "https://localhost:8080/"
        },
        "id": "LfyvWOVlHSZH",
        "outputId": "228c0ec6-85a6-4ec0-c6d8-dff98bd0ad78"
      },
      "execution_count": 1,
      "outputs": [
        {
          "output_type": "stream",
          "name": "stdout",
          "text": [
            "Worker process\n"
          ]
        }
      ]
    },
    {
      "cell_type": "markdown",
      "source": [
        "Q4. What is a multiprocessing pool in Python? Why is it used?"
      ],
      "metadata": {
        "id": "8Wq6IcxyHiTF"
      }
    },
    {
      "cell_type": "markdown",
      "source": [
        "A4. A multiprocessing pool in Python is a mechanism provided by the multiprocessing module to manage a pool of worker processes. It is used to distribute tasks across multiple processes, enabling parallel execution of functions or methods. The pool abstracts away the process management details, making it easier to parallelize tasks without having to manually create and manage individual processes."
      ],
      "metadata": {
        "id": "BbQi3FujHjLT"
      }
    },
    {
      "cell_type": "markdown",
      "source": [
        "Q5. How can we create a pool of worker processes in Python using the multiprocessing module?"
      ],
      "metadata": {
        "id": "XySjQSPCHnMV"
      }
    },
    {
      "cell_type": "code",
      "execution_count": 4,
      "metadata": {
        "colab": {
          "base_uri": "https://localhost:8080/"
        },
        "id": "UMrBu0gCGkMk",
        "outputId": "a89e5f20-46a9-4afb-abb6-bceceddbcd21"
      },
      "outputs": [
        {
          "output_type": "stream",
          "name": "stdout",
          "text": [
            "Worker 1\tWorker 2\t\n",
            "Worker 3\t\n",
            "\n"
          ]
        }
      ],
      "source": [
        "import multiprocessing\n",
        "\n",
        "def worker(num):\n",
        "    print(f\"Worker {num}\\t\")\n",
        "\n",
        "if __name__ == \"__main__\":\n",
        "    with multiprocessing.Pool(processes=3) as pool:\n",
        "        pool.map(worker, [1, 2, 3])\n"
      ]
    },
    {
      "cell_type": "markdown",
      "source": [
        "Q6. Write a Python program to create 4 processes, each process should print a different number using the multiprocessing module in Python."
      ],
      "metadata": {
        "id": "MsuRuu4RH8eI"
      }
    },
    {
      "cell_type": "code",
      "source": [
        "import multiprocessing\n",
        "\n",
        "def print_num(num):\n",
        "  print(f\"number is {num}\\t\")\n",
        "\n",
        "if __name__=='__main__':\n",
        "  processes=[]\n",
        "  for i in range(1,5):\n",
        "    p=multiprocessing.Process(target=print_num,args=(i,))\n",
        "    processes.append(p)\n",
        "    p.start()\n",
        "  for p in processes:\n",
        "    p.join()"
      ],
      "metadata": {
        "colab": {
          "base_uri": "https://localhost:8080/"
        },
        "id": "yUbS9cKsHyZN",
        "outputId": "030def27-7535-49c4-a4b3-375fc4b56495"
      },
      "execution_count": 6,
      "outputs": [
        {
          "output_type": "stream",
          "name": "stdout",
          "text": [
            "number is 1\tnumber is 2\t\n",
            "\n",
            "number is 3\t\n",
            "number is 4\t\n"
          ]
        }
      ]
    },
    {
      "cell_type": "code",
      "source": [],
      "metadata": {
        "id": "Dd4dAq1bI3v_"
      },
      "execution_count": null,
      "outputs": []
    }
  ]
}
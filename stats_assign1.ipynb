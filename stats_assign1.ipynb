{
  "nbformat": 4,
  "nbformat_minor": 0,
  "metadata": {
    "colab": {
      "provenance": []
    },
    "kernelspec": {
      "name": "python3",
      "display_name": "Python 3"
    },
    "language_info": {
      "name": "python"
    }
  },
  "cells": [
    {
      "cell_type": "markdown",
      "source": [
        "Q1. What are the three measures of central tendency?"
      ],
      "metadata": {
        "id": "10A1Q7ejXH9j"
      }
    },
    {
      "cell_type": "markdown",
      "source": [
        "Mean: The mean is the average of a dataset and is calculated by adding all values and dividing by the total number of values.\n",
        "Median: The median is the middle value in a dataset when the values are arranged in ascending or descending order\n",
        "Mode: The mode is the value that appears most frequently in a dataset. It is beneficial for categorical data and can be used in conjunction with other measures."
      ],
      "metadata": {
        "id": "M5_3SsMnXV8D"
      }
    },
    {
      "cell_type": "markdown",
      "source": [
        "Q2. What is the difference between the mean, median, and mode? How are they used to measure the\n",
        "central tendency of a dataset?"
      ],
      "metadata": {
        "id": "qxpZqYYFXpQl"
      }
    },
    {
      "cell_type": "markdown",
      "source": [
        "Mean:The mean is the average of a dataset,It is highly sensitive to extreme values or outliers. A single extreme value can significantly affect the mean.The mean is commonly used for continuous data.\n",
        "It is commonly used for datasets with continuous numerical values and is a good representation of the dataset's central value, especially in symmetrical distributions."
      ],
      "metadata": {
        "id": "2pBFFr5QYESN"
      }
    },
    {
      "cell_type": "markdown",
      "source": [
        "Median:median is the middle value in a dataset when arranged in ascending or descending order.Unlike the mean, the median is not influenced by extreme values. It's useful when the dataset has outliers, or if the distribution is skewed. The median provides a reliable measure of central tendency, particularly in asymmetric distributions."
      ],
      "metadata": {
        "id": "VDzBv_KzYwUc"
      }
    },
    {
      "cell_type": "markdown",
      "source": [
        "Mode:mode is the value that occurs most frequently in a dataset.A dataset can have one mode (unimodal), multiple modes (multimodal), or no mode (no value appears more frequently than others). mode is particularly useful for categorical or nominal data  "
      ],
      "metadata": {
        "id": "OPqs6mqlZOJE"
      }
    },
    {
      "cell_type": "markdown",
      "source": [
        "Q3. Measure the three measures of central tendency for the given height data:\n",
        "[178,177,176,177,178.2,178,175,179,180,175,178.9,176.2,177,172.5,178,176.5]"
      ],
      "metadata": {
        "id": "44sRJWjhZ7P0"
      }
    },
    {
      "cell_type": "markdown",
      "source": [
        "Mean=\n",
        "(178+177+176+177+178.2+178+175+179+180+175+178.9+176.2+177+172.5+178+176.5)/16\n",
        "​\n",
        "\n",
        "\n",
        "Mean\n",
        "=\n",
        "2828.3/\n",
        "16\n",
        "≈\n",
        "176.76875\n",
        "\n",
        "​\n",
        " ≈176.76875"
      ],
      "metadata": {
        "id": "tSrZKjzaZ8rB"
      }
    },
    {
      "cell_type": "markdown",
      "source": [
        "Median : sort values in ascending order\n",
        "172.5,175,175,176,176,176.2,176.5,177,177,177,178,178,178,178.2,178.9,179,180\n",
        "median is 177.5"
      ],
      "metadata": {
        "id": "shkn0rQiaeBt"
      }
    },
    {
      "cell_type": "markdown",
      "source": [
        "mode :most frequently occur: 178 (trimodal)"
      ],
      "metadata": {
        "id": "abYHBP38bCc6"
      }
    },
    {
      "cell_type": "markdown",
      "source": [
        "Q4. Find the standard deviation for the given data:\n",
        "[178,177,176,177,178.2,178,175,179,180,175,178.9,176.2,177,172.5,178,176.5]"
      ],
      "metadata": {
        "id": "e5b0vl5zbfCW"
      }
    },
    {
      "cell_type": "markdown",
      "source": [
        "To find the standard deviation for the given dataset: \\[178, 177, 176, 177, 178.2, 178, 175, 179, 180, 175, 178.9, 176.2, 177, 172.5, 178, 176.5\\], we can follow these steps:\n",
        "\n",
        "1. **Calculate the Mean:** We've already found the mean in a previous question, which is approximately \\(176.7688\\).\n",
        "\n",
        "2. **Calculate the Squared Differences from the Mean for Each Value:**\n",
        "\n",
        "( (178 - 176.7688)^2 = 1.23^2 = 1.5129 )\n",
        "( (177 - 176.7688)^2 = 0.2312^2 = 0.0534 )\n",
        "( (176 - 176.7688)^2 = -0.7688^2 = 0.5909 )\n",
        "( (177 - 176.7688)^2 = 0.2312^2 = 0.0534 )\n",
        "( (178.2 - 176.7688)^2 = 1.4312^2 = 2.0503 )\n",
        "( (178 - 176.7688)^2 = 1.2312^2 = 1.5156 )\n",
        "( (175 - 176.7688)^2 = -1.7688^2 = 3.1278)\n",
        "( (179 - 176.7688)^2 = 2.2312^2 = 4.9756)\n",
        "( (180 - 176.7688)^2 = 3.2312^2 = 10.4532)\n",
        "( (175 - 176.7688)^2 = -1.7688^2 = 3.1278)\n",
        "( (178.9 - 176.7688)^2 = 2.1312^2 = 4.5332)\n",
        "( (176.2 - 176.7688)^2 = -0.5688^2 = 0.3235)\n",
        "( (177 - 176.7688)^2 = 0.2312^2 = 0.0534)\n",
        "( (172.5 - 176.7688)^2 = -4.2688^2 = 18.2367)\n",
        "( (178 - 176.7688)^2 = 1.2312^2 = 1.5156)\n",
        "( (176.5 - 176.7688)^2 = -0.2688^2 = 0.0723)\n",
        "\n",
        "3. **Calculate the Variance:** Sum all the squared differences and divide by the count of values.\n",
        "(1.5129 + 0.0534 + 0.5909 + 0.0534 + 2.0503 + 1.5156 + 3.1278 + 4.9756 + 10.4532 + 3.1278 + 4.5332 + 0.3235 + 0.0534 + 18.2367 + 1.5156 + 0.0723)/15\n",
        "(52.7744)/(15)= 3.5183\n",
        "\n",
        "4. **Calculate the Standard Deviation:** The standard deviation is the square root of the variance.\n",
        "sqrt(3.5183)= 1.8751\n",
        "\n",
        "Therefore, the standard deviation for the given dataset is approximately (1.8751)."
      ],
      "metadata": {
        "id": "7YcKcSoKbuBO"
      }
    },
    {
      "cell_type": "markdown",
      "source": [
        "Q5. How are measures of dispersion such as range, variance, and standard deviation used to describe\n",
        "the spread of a dataset? Provide an example."
      ],
      "metadata": {
        "id": "CDE6m7grdxE4"
      }
    },
    {
      "cell_type": "markdown",
      "source": [
        "These measures provide insight into how the individual data points are distributed around the central tendency (mean, median) of the dataset."
      ],
      "metadata": {
        "id": "ICej8aJ_d0Tm"
      }
    },
    {
      "cell_type": "markdown",
      "source": [
        "Range:The range is the simplest measure of dispersion. It's calculated as the difference between the highest and lowest values in a dataset.\n",
        "Variance:Variance measures how much the individual values in a dataset deviate from the mean.\n",
        "Standard devaition: standard deviation is the square root of the variance. It's the most commonly used measure of dispersion and is expressed in the same units as the original data."
      ],
      "metadata": {
        "id": "pgEKmHthd43A"
      }
    },
    {
      "cell_type": "markdown",
      "source": [
        "Q6. What is a Venn diagram?\n",
        ""
      ],
      "metadata": {
        "id": "hbd4er49eaPi"
      }
    },
    {
      "cell_type": "markdown",
      "source": [
        "Venn diagram is a visual representation used to show relationships between different sets or groups ."
      ],
      "metadata": {
        "id": "afWBTLaaepxU"
      }
    },
    {
      "cell_type": "markdown",
      "source": [
        "Q7. For the two given sets A = (2,3,4,5,6,7) & B = (0,2,6,8,10). Find:\n",
        "(i) A intersection B\n",
        "(ii) A ⋃ B"
      ],
      "metadata": {
        "id": "G_Vy8VDbfEvb"
      }
    },
    {
      "cell_type": "markdown",
      "source": [
        "i)A intersection B = (2,6)\n",
        "ii )A union B= (2,3,4,5,6,7,0,8,10)"
      ],
      "metadata": {
        "id": "2-twWHKVfKkr"
      }
    },
    {
      "cell_type": "markdown",
      "source": [
        "Q8. What do you understand about skewness in data?"
      ],
      "metadata": {
        "id": "inP4Kc6ofl_E"
      }
    },
    {
      "cell_type": "markdown",
      "source": [
        "Skewness is a statistical measure used to describe the symmetry or lack of symmetry in a dataset's distribution.\n",
        "positive skewness=mean>median>mode   ..........\n",
        "negative skewness=mean<median<mode\n"
      ],
      "metadata": {
        "id": "B_QmT0Naf3uq"
      }
    },
    {
      "cell_type": "markdown",
      "source": [
        "Q9. If a data is right skewed then what will be the position of median with respect to mean?"
      ],
      "metadata": {
        "id": "a9x4VLC2gRPD"
      }
    },
    {
      "cell_type": "markdown",
      "source": [
        "In a right-skewed distribution, the median will typically be positioned to the left of the mean.\n",
        "mean>median>mode"
      ],
      "metadata": {
        "id": "WYm0T2HfgfjC"
      }
    },
    {
      "cell_type": "markdown",
      "source": [
        "Q10. Explain the difference between covariance and correlation. How are these measures used in\n",
        "statistical analysis?"
      ],
      "metadata": {
        "id": "SZAcBguUglIs"
      }
    },
    {
      "cell_type": "markdown",
      "source": [
        "Covariance and correlation are both measures used to assess the relationship between variables in statistics,"
      ],
      "metadata": {
        "id": "Ra-pf2z8guc1"
      }
    },
    {
      "cell_type": "markdown",
      "source": [
        " Covariance measures the degree to which two random variables vary together. Correlation is a standardized measure that assesses the strength and direction of the linear relationship between two variables."
      ],
      "metadata": {
        "id": "ze2KVykKg0gH"
      }
    },
    {
      "cell_type": "markdown",
      "source": [
        "Q11. What is the formula for calculating the sample mean? Provide an example calculation for a\n",
        "dataset."
      ],
      "metadata": {
        "id": "eisDhsJYg_Jc"
      }
    },
    {
      "cell_type": "markdown",
      "source": [
        "The formula for calculating the sample mean is the sum of all values in the dataset divided by the number of values in that dataset."
      ],
      "metadata": {
        "id": "YKhiKGznhInv"
      }
    },
    {
      "cell_type": "markdown",
      "source": [
        "mean=summation of (1 to n)xi/n"
      ],
      "metadata": {
        "id": "5a-aj94fhJts"
      }
    },
    {
      "cell_type": "markdown",
      "source": [
        "Let's consider a simple dataset of exam scores: 85, 90, 78, 92, 87, and 80.\n",
        "\n",
        "add=(85+90+78+92+87+80)/6=85.33"
      ],
      "metadata": {
        "id": "B0jMXEJNhb0O"
      }
    },
    {
      "cell_type": "markdown",
      "source": [
        "Q12. For a normal distribution data what is the relationship between its measure of central tendency?"
      ],
      "metadata": {
        "id": "IuAYY1SihyCe"
      }
    },
    {
      "cell_type": "markdown",
      "source": [
        "in normal distribution:\n",
        "The mean, median, and mode are all equal and are located at the center of the distribution.\n",
        "They are all concentrated at the peak of the symmetric bell-shaped curve that characterizes a normal distribution.\n"
      ],
      "metadata": {
        "id": "_CFY2q1Vh9ws"
      }
    },
    {
      "cell_type": "markdown",
      "source": [
        "Q13. How is covariance different from correlation?"
      ],
      "metadata": {
        "id": "upzMuyr7iZkt"
      }
    },
    {
      "cell_type": "markdown",
      "source": [
        "covariance measures the degree to which two random variables vary together. It indicates the direction of the linear relationship between variables.The range of covariance values is not standardized, so it can be any value, positive, negative, or zero."
      ],
      "metadata": {
        "id": "a4SpXK4uimtw"
      }
    },
    {
      "cell_type": "markdown",
      "source": [
        "Correlation is a standardized measure that assesses the strength and direction of the linear relationship between two variables. The correlation coefficient ranges between -1 and 1."
      ],
      "metadata": {
        "id": "w3oTy76DiwM0"
      }
    },
    {
      "cell_type": "markdown",
      "source": [
        "Q14. How do outliers affect measures of central tendency and dispersion? Provide an example."
      ],
      "metadata": {
        "id": "0_l14URSi_43"
      }
    },
    {
      "cell_type": "markdown",
      "source": [
        "outliers can significantly impact measures of central tendency (mean, median, mode) and dispersion (range, variance, standard deviation) in a dataset,"
      ],
      "metadata": {
        "id": "YBm7g25JjNlA"
      }
    },
    {
      "cell_type": "markdown",
      "source": [
        "Mean:\n",
        "\n",
        "Outliers can substantially affect the mean. A single extreme value can pull the mean towards it, causing an inaccurate representation of the dataset's typical value."
      ],
      "metadata": {
        "id": "XlHGd4pmjR9F"
      }
    },
    {
      "cell_type": "markdown",
      "source": [
        "Median:\n",
        "\n",
        "The median is less affected by outliers. Outliers have minimal impact on the median as it is solely dependent on the middle value(s) and not the magnitude of values."
      ],
      "metadata": {
        "id": "O13tct_mjX-v"
      }
    },
    {
      "cell_type": "markdown",
      "source": [
        "mode :Outliers do not affect the mode, as it represents the most frequently occurring value, and extreme values do not necessarily change this value."
      ],
      "metadata": {
        "id": "l_O-szjXjeal"
      }
    },
    {
      "cell_type": "markdown",
      "source": [
        "Range:\n",
        "\n",
        "Outliers significantly affect the range. The difference between the highest and lowest values can increase substantially if an outlier is present."
      ],
      "metadata": {
        "id": "61Z7h4xQjlD6"
      }
    },
    {
      "cell_type": "markdown",
      "source": [
        "Variance and Standard Deviation:\n",
        "\n",
        "Outliers can have a notable impact on variance and standard deviation, as these measures take into account the squared deviations from the mean. Outliers can increase the dispersion and, subsequently, the variance and standard deviation."
      ],
      "metadata": {
        "id": "o5sb9oTFjsBy"
      }
    },
    {
      "cell_type": "markdown",
      "source": [
        "Consider a dataset of ages: 25, 26, 27, 28, 29, 30, 31, 32, 33, 34, 35, 36, 37, 38, 39, 300."
      ],
      "metadata": {
        "id": "2bJ9Z_Dhj15h"
      }
    },
    {
      "cell_type": "markdown",
      "source": [
        "i)Mean: The mean is highly impacted by the outlier. In this case, the mean age would be significantly higher due to the presence of the outlier (300)............\n",
        "ii)Median: The median would be less affected. It would be the middle value when arranged, unaffected by the presence of the outlier..........\n",
        "iii)Range: The range would be drastically increased due to the presence of the outlier (300)...........\n",
        "iv)Variance and Standard Deviation: These measures would also increase due to the squared differences from the mean, giving more weight to the outlier's influence."
      ],
      "metadata": {
        "id": "2pujNVlEj7w_"
      }
    },
    {
      "cell_type": "code",
      "source": [],
      "metadata": {
        "id": "HjimE50ieZcd"
      },
      "execution_count": null,
      "outputs": []
    },
    {
      "cell_type": "code",
      "execution_count": null,
      "metadata": {
        "id": "Anlq7G_JWkun"
      },
      "outputs": [],
      "source": []
    }
  ]
}